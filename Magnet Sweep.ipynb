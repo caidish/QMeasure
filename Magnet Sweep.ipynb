{
 "cells": [
  {
   "cell_type": "markdown",
   "metadata": {},
   "source": [
    "# Script for Sweeping the Magnet on Dilution Refrigerator"
   ]
  },
  {
   "cell_type": "markdown",
   "metadata": {},
   "source": [
    "## This block of code must be run- it imports all the relevant libraries and packages"
   ]
  },
  {
   "cell_type": "code",
   "execution_count": null,
   "metadata": {},
   "outputs": [],
   "source": [
    "from threaded_sweep import Sweep1D, Sweep0D, Sweep2D\n",
    "from daq_driver import Daq, DaqAOChannel, DaqAIChannel\n",
    "import nidaqmx\n",
    "import time\n",
    "import numpy as np\n",
    "import qcodes as qc\n",
    "from util import init_database, set_magnet_ramp_ranges\n",
    "from tracking import *\n",
    "from qcodes.dataset.measurements import Measurement\n",
    "from qcodes.dataset.database import initialise_or_create_database_at\n",
    "from qcodes.dataset.data_export import get_data_by_id\n",
    "from qcodes.instrument_drivers.Lakeshore.Model_372 import Model_372\n",
    "from qcodes.instrument_drivers.american_magnetics.AMI430 import AMI430\n",
    "from qcodes.instrument_drivers.stanford_research.SR860 import SR860"
   ]
  },
  {
   "cell_type": "markdown",
   "metadata": {},
   "source": [
    "## Initialize the magnet here"
   ]
  },
  {
   "cell_type": "code",
   "execution_count": null,
   "metadata": {},
   "outputs": [],
   "source": [
    "magnet = AMI430(\"Magnet\", address=\"10.155.94.127\", port=7180, has_current_rating=False)"
   ]
  },
  {
   "cell_type": "markdown",
   "metadata": {},
   "source": [
    "### Set magnet parameter's here, like ramp rate"
   ]
  },
  {
   "cell_type": "code",
   "execution_count": null,
   "metadata": {},
   "outputs": [],
   "source": [
    "ramp_rate_units = 'minutes'\n",
    "field_ramp_rate = .08\n",
    "magnet.field_ramp_limit.set(field_ramp_rate)\n",
    "magnet.ramp_rate_units.set(ramp_rate_units)"
   ]
  },
  {
   "cell_type": "markdown",
   "metadata": {},
   "source": [
    "### Alternatively, use the ramp ranges functionality, demonstrated below"
   ]
  },
  {
   "cell_type": "code",
   "execution_count": null,
   "metadata": {},
   "outputs": [],
   "source": [
    "# Pass a list, formatted as [(<ramp stage>, <field ramp rate>, <max applicable current>),  . . .]\n",
    "ramp_settings = \n",
    "[(1, 0.05, 10), (2, 0.08, 20), (3, 0.20, 80)]\n",
    "set_magnet_ramp_ranges(magnet, ramp_settings)"
   ]
  },
  {
   "cell_type": "markdown",
   "metadata": {},
   "source": [
    "### The next blocks are specific to various instruments - you only need to run the blocks for the instruments you wish to control/get data from."
   ]
  },
  {
   "cell_type": "markdown",
   "metadata": {},
   "source": [
    "### If you want to use the Lakeshore temperature controller, run this to initialize it"
   ]
  },
  {
   "cell_type": "code",
   "execution_count": null,
   "metadata": {},
   "outputs": [],
   "source": [
    "ls = Model_372('lakeshore_372', 'TCPIP::10.155.95.127::7777::SOCKET')\n",
    "ls.ch01.enabled(True)\n",
    "ls.ch02.enabled(True)\n",
    "ls.ch03.enabled(True)\n",
    "ls.ch05.enabled(True)\n",
    "ls.ch06.enabled(True)\n",
    "for ch in ls.channels:\n",
    "    print(f'Temperature of {ch.short_name} ({\"on\" if ch.enabled() else \"off\"}): {ch.temperature()} {ch.units()}')"
   ]
  },
  {
   "cell_type": "markdown",
   "metadata": {},
   "source": [
    "### Initialize the DAQ here"
   ]
  },
  {
   "cell_type": "code",
   "execution_count": null,
   "metadata": {},
   "outputs": [],
   "source": [
    "daq = Daq(\"Dev1\", \"Daq\")"
   ]
  },
  {
   "cell_type": "markdown",
   "metadata": {},
   "source": [
    "## Create your sweep object here! \n",
    "### The arguments for the 1D sweep shown here are, in order, the parameter to be swept, the starting point, ending point, step value, delay between steps, flag to sweep back and forth, whether to save data, and plot data, and whether to plot the parameters against time or the sweeping parameter\n",
    "### The only required arguments are the parameter, start, stop, and step values"
   ]
  },
  {
   "cell_type": "code",
   "execution_count": null,
   "metadata": {},
   "outputs": [],
   "source": [
    "sweep = Sweep1D(magnet.field, 0, 5, 0.05, inter_delay = 0.5, bidirectional = False, save_data = True, \n",
    "            plot_data = True, x_axis_time = 0, plot_bin=5, instrument=magnet)"
   ]
  },
  {
   "cell_type": "markdown",
   "metadata": {},
   "source": [
    "## Tell the sweep which other parameters to track during the sweep. Here, we have added the temperature and a couple DAQ channels"
   ]
  },
  {
   "cell_type": "code",
   "execution_count": null,
   "metadata": {},
   "outputs": [],
   "source": [
    "sweep.follow_param(daq.ai0.voltage, daq.ai1.voltage, ls.ch01.temperature)"
   ]
  },
  {
   "cell_type": "markdown",
   "metadata": {},
   "source": [
    "## Now, we initialize/create the database we are saving to (if you want to save data)\n",
    "## You can run this code between each run to give the data identifiers through *exp_name* and *sample_name*"
   ]
  },
  {
   "cell_type": "code",
   "execution_count": null,
   "metadata": {},
   "outputs": [],
   "source": [
    "try:\n",
    "    # Make sure database_name and the path are set to the correct values!\n",
    "    database_name = \"temp.db\"\n",
    "    exp_name = \"Example experiment- Magnetic field dependence\"\n",
    "    sample_name = \"Example sample- Sweep field_Gain=10^6_T=10mK_Vg=3V_measure I12_float others\"\n",
    "    init_database(database_name, exp_name, sample_name, s)\n",
    "except:\n",
    "    print(\"Error opening database\")"
   ]
  },
  {
   "cell_type": "markdown",
   "metadata": {},
   "source": [
    "## Now, we can start the sweep! This will automatically start data collection, plotting, saving, etc"
   ]
  },
  {
   "cell_type": "code",
   "execution_count": null,
   "metadata": {},
   "outputs": [],
   "source": [
    "%matplotlib qt\n",
    "sweep.start()"
   ]
  },
  {
   "cell_type": "markdown",
   "metadata": {},
   "source": [
    "### To stop the sweep, run the stop command below. To restart it, you can run the start command from above again."
   ]
  },
  {
   "cell_type": "code",
   "execution_count": null,
   "metadata": {},
   "outputs": [],
   "source": [
    "sweep.stop()"
   ]
  },
  {
   "cell_type": "code",
   "execution_count": null,
   "metadata": {},
   "outputs": [],
   "source": [
    "sweep.resume()"
   ]
  }
 ],
 "metadata": {
  "kernelspec": {
   "display_name": "Python 3",
   "language": "python",
   "name": "python3"
  },
  "language_info": {
   "codemirror_mode": {
    "name": "ipython",
    "version": 3
   },
   "file_extension": ".py",
   "mimetype": "text/x-python",
   "name": "python",
   "nbconvert_exporter": "python",
   "pygments_lexer": "ipython3",
   "version": "3.7.9"
  }
 },
 "nbformat": 4,
 "nbformat_minor": 4
}
