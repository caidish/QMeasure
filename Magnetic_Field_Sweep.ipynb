{
 "cells": [
  {
   "cell_type": "code",
   "execution_count": 1,
   "metadata": {},
   "outputs": [
    {
     "name": "stdout",
     "output_type": "stream",
     "text": [
      "Logging hadn't been started.\n",
      "Activating auto-logging. Current session state plus future input saved.\n",
      "Filename       : C:\\Users\\nanouser\\.qcodes\\logs\\command_history.log\n",
      "Mode           : append\n",
      "Output logging : True\n",
      "Raw input log  : False\n",
      "Timestamping   : True\n",
      "State          : active\n",
      "Qcodes Logfile : C:\\Users\\nanouser\\.qcodes\\logs\\210406-10128-qcodes.log\n"
     ]
    }
   ],
   "source": [
    "%matplotlib qt\n",
    "import src\n",
    "from src.simul_sweep import SimulSweep\n",
    "from src.daq_driver import Daq\n",
    "from src.base_sweep import BaseSweep\n",
    "from src.sweep0d import Sweep0D\n",
    "from src.sweep1d import Sweep1D\n",
    "from src.sweep2d import Sweep2D\n",
    "from src.sweep_ips import SweepIPS\n",
    "from src.sweep_queue import SweepQueue, DatabaseEntry\n",
    "from src.util import init_database\n",
    "from src.tracking import *\n",
    "import nidaqmx\n",
    "import time, os\n",
    "import numpy as np\n",
    "import qcodes as qc\n",
    "from src.util import connect_to_station, connect_station_instruments\n",
    "from qcodes import initialise_or_create_database_at, load_by_run_spec\n",
    "from qcodes import Station\n",
    "from qcodes.instrument_drivers.Lakeshore.Model_372 import Model_372\n",
    "from qcodes.instrument_drivers.american_magnetics.AMI430 import AMI430\n",
    "from qcodes.instrument_drivers.stanford_research.SR860 import SR860\n",
    "from qcodes_contrib_drivers.drivers.Oxford.IPS120 import OxfordInstruments_IPS120\n",
    "from qcodes.dataset.measurements import Measurement\n",
    "from qcodes.dataset.data_set import load_by_run_spec\n",
    "from qcodes.dataset.data_export import get_data_by_id\n",
    "from qcodes.instrument_drivers.stanford_research.SR830 import SR830"
   ]
  },
  {
   "cell_type": "code",
   "execution_count": 2,
   "metadata": {},
   "outputs": [],
   "source": [
    "station = Station(config_file='cfg/default.station.yaml')"
   ]
  },
  {
   "cell_type": "code",
   "execution_count": 3,
   "metadata": {},
   "outputs": [
    {
     "data": {
      "text/plain": [
       "{'instruments': {},\n",
       " 'parameters': {},\n",
       " 'components': {},\n",
       " 'config': {'instruments': ordereddict([('daq', ordereddict([('address', 'Dev1'), ('enable_forced_reconnect', True), ('type', 'src.daq_driver.Daq')])), ('itc', ordereddict([('address', 'GPIB0::24::INSTR'), ('enable_forced_reconnect', True), ('type', 'src.ITC503.ITC503')])), ('keith', ordereddict([('address', 'USB0::0x05E6::0x2450::04358606::INSTR'), ('enable_forced_reconnect', True), ('type', 'qcodes.instrument_drivers.tektronix.Keithley_2450.Keithley2450')])), ('ls340', ordereddict([('address', 'GPIB0::12::INSTR'), ('enable_forced_reconnect', True), ('type', 'src.Model_340.Model_340')])), ('sr860', ordereddict([('address', 'USB0::0xB506::0x2000::003594::INSTR'), ('enable_forced_reconnect', True), ('type', 'qcodes.instrument_drivers.stanford_research.SR860.SR860')]))])}}"
      ]
     },
     "execution_count": 3,
     "metadata": {},
     "output_type": "execute_result"
    }
   ],
   "source": [
    "station.snapshot()"
   ]
  },
  {
   "cell_type": "code",
   "execution_count": 4,
   "metadata": {},
   "outputs": [
    {
     "data": {
      "text/plain": [
       "<ruamel.yaml.comments.CommentedMapItemsView at 0x2724ddda948>"
      ]
     },
     "execution_count": 4,
     "metadata": {},
     "output_type": "execute_result"
    }
   ],
   "source": [
    "station.snapshot()['config']['instruments'].items()"
   ]
  },
  {
   "cell_type": "code",
   "execution_count": 5,
   "metadata": {},
   "outputs": [
    {
     "name": "stderr",
     "output_type": "stream",
     "text": [
      "2021-04-06 13:42:22,917 ¦ qcodes.instrument.base ¦ WARNING ¦ base ¦ snapshot_base ¦ 215 ¦ [daq_ao0(DaqAOChannel)] Snapshot: Could not update parameter: gain_factor\n",
      "2021-04-06 13:42:22,928 ¦ qcodes.instrument.base ¦ WARNING ¦ base ¦ snapshot_base ¦ 215 ¦ [daq_ao0(DaqAOChannel)] Snapshot: Could not update parameter: impedance\n",
      "2021-04-06 13:42:22,929 ¦ qcodes.instrument.base ¦ WARNING ¦ base ¦ snapshot_base ¦ 215 ¦ [daq_ao0(DaqAOChannel)] Snapshot: Could not update parameter: value\n",
      "2021-04-06 13:42:23,034 ¦ qcodes.instrument.base ¦ WARNING ¦ base ¦ snapshot_base ¦ 215 ¦ [daq_ao1(DaqAOChannel)] Snapshot: Could not update parameter: gain_factor\n",
      "2021-04-06 13:42:23,036 ¦ qcodes.instrument.base ¦ WARNING ¦ base ¦ snapshot_base ¦ 215 ¦ [daq_ao1(DaqAOChannel)] Snapshot: Could not update parameter: impedance\n",
      "2021-04-06 13:42:23,040 ¦ qcodes.instrument.base ¦ WARNING ¦ base ¦ snapshot_base ¦ 215 ¦ [daq_ao1(DaqAOChannel)] Snapshot: Could not update parameter: value\n",
      "2021-04-06 13:42:23,063 ¦ qcodes.instrument.base ¦ WARNING ¦ base ¦ snapshot_base ¦ 215 ¦ [daq_ao2(DaqAOChannel)] Snapshot: Could not update parameter: gain_factor\n",
      "2021-04-06 13:42:23,064 ¦ qcodes.instrument.base ¦ WARNING ¦ base ¦ snapshot_base ¦ 215 ¦ [daq_ao2(DaqAOChannel)] Snapshot: Could not update parameter: impedance\n",
      "2021-04-06 13:42:23,066 ¦ qcodes.instrument.base ¦ WARNING ¦ base ¦ snapshot_base ¦ 215 ¦ [daq_ao2(DaqAOChannel)] Snapshot: Could not update parameter: value\n",
      "2021-04-06 13:42:23,088 ¦ qcodes.instrument.base ¦ WARNING ¦ base ¦ snapshot_base ¦ 215 ¦ [daq_ao3(DaqAOChannel)] Snapshot: Could not update parameter: gain_factor\n",
      "2021-04-06 13:42:23,090 ¦ qcodes.instrument.base ¦ WARNING ¦ base ¦ snapshot_base ¦ 215 ¦ [daq_ao3(DaqAOChannel)] Snapshot: Could not update parameter: impedance\n",
      "2021-04-06 13:42:23,091 ¦ qcodes.instrument.base ¦ WARNING ¦ base ¦ snapshot_base ¦ 215 ¦ [daq_ao3(DaqAOChannel)] Snapshot: Could not update parameter: value\n"
     ]
    },
    {
     "name": "stdout",
     "output_type": "stream",
     "text": [
      "Connected to: NI DAQ USB-6259 (BNC) (Dev1) in 1.25s\n"
     ]
    },
    {
     "name": "stderr",
     "output_type": "stream",
     "text": [
      "2021-04-06 13:42:23,113 ¦ qcodes.instrument.base ¦ WARNING ¦ base ¦ snapshot_base ¦ 215 ¦ [daq_ai0(DaqAIChannel)] Snapshot: Could not update parameter: gain_factor\n",
      "2021-04-06 13:42:23,115 ¦ qcodes.instrument.base ¦ WARNING ¦ base ¦ snapshot_base ¦ 215 ¦ [daq_ai0(DaqAIChannel)] Snapshot: Could not update parameter: impedance\n",
      "2021-04-06 13:42:23,117 ¦ qcodes.instrument.base ¦ WARNING ¦ base ¦ snapshot_base ¦ 215 ¦ [daq_ai0(DaqAIChannel)] Snapshot: Could not update parameter: value\n",
      "2021-04-06 13:42:23,139 ¦ qcodes.instrument.base ¦ WARNING ¦ base ¦ snapshot_base ¦ 215 ¦ [daq_ai1(DaqAIChannel)] Snapshot: Could not update parameter: gain_factor\n",
      "2021-04-06 13:42:23,141 ¦ qcodes.instrument.base ¦ WARNING ¦ base ¦ snapshot_base ¦ 215 ¦ [daq_ai1(DaqAIChannel)] Snapshot: Could not update parameter: impedance\n",
      "2021-04-06 13:42:23,142 ¦ qcodes.instrument.base ¦ WARNING ¦ base ¦ snapshot_base ¦ 215 ¦ [daq_ai1(DaqAIChannel)] Snapshot: Could not update parameter: value\n",
      "2021-04-06 13:42:23,164 ¦ qcodes.instrument.base ¦ WARNING ¦ base ¦ snapshot_base ¦ 215 ¦ [daq_ai2(DaqAIChannel)] Snapshot: Could not update parameter: gain_factor\n",
      "2021-04-06 13:42:23,165 ¦ qcodes.instrument.base ¦ WARNING ¦ base ¦ snapshot_base ¦ 215 ¦ [daq_ai2(DaqAIChannel)] Snapshot: Could not update parameter: impedance\n",
      "2021-04-06 13:42:23,167 ¦ qcodes.instrument.base ¦ WARNING ¦ base ¦ snapshot_base ¦ 215 ¦ [daq_ai2(DaqAIChannel)] Snapshot: Could not update parameter: value\n",
      "2021-04-06 13:42:23,189 ¦ qcodes.instrument.base ¦ WARNING ¦ base ¦ snapshot_base ¦ 215 ¦ [daq_ai3(DaqAIChannel)] Snapshot: Could not update parameter: gain_factor\n",
      "2021-04-06 13:42:23,190 ¦ qcodes.instrument.base ¦ WARNING ¦ base ¦ snapshot_base ¦ 215 ¦ [daq_ai3(DaqAIChannel)] Snapshot: Could not update parameter: impedance\n",
      "2021-04-06 13:42:23,192 ¦ qcodes.instrument.base ¦ WARNING ¦ base ¦ snapshot_base ¦ 215 ¦ [daq_ai3(DaqAIChannel)] Snapshot: Could not update parameter: value\n",
      "2021-04-06 13:42:23,215 ¦ qcodes.instrument.base ¦ WARNING ¦ base ¦ snapshot_base ¦ 215 ¦ [daq_ai4(DaqAIChannel)] Snapshot: Could not update parameter: gain_factor\n",
      "2021-04-06 13:42:23,217 ¦ qcodes.instrument.base ¦ WARNING ¦ base ¦ snapshot_base ¦ 215 ¦ [daq_ai4(DaqAIChannel)] Snapshot: Could not update parameter: impedance\n",
      "2021-04-06 13:42:23,218 ¦ qcodes.instrument.base ¦ WARNING ¦ base ¦ snapshot_base ¦ 215 ¦ [daq_ai4(DaqAIChannel)] Snapshot: Could not update parameter: value\n",
      "2021-04-06 13:42:23,242 ¦ qcodes.instrument.base ¦ WARNING ¦ base ¦ snapshot_base ¦ 215 ¦ [daq_ai5(DaqAIChannel)] Snapshot: Could not update parameter: gain_factor\n",
      "2021-04-06 13:42:23,244 ¦ qcodes.instrument.base ¦ WARNING ¦ base ¦ snapshot_base ¦ 215 ¦ [daq_ai5(DaqAIChannel)] Snapshot: Could not update parameter: impedance\n",
      "2021-04-06 13:42:23,245 ¦ qcodes.instrument.base ¦ WARNING ¦ base ¦ snapshot_base ¦ 215 ¦ [daq_ai5(DaqAIChannel)] Snapshot: Could not update parameter: value\n",
      "2021-04-06 13:42:23,267 ¦ qcodes.instrument.base ¦ WARNING ¦ base ¦ snapshot_base ¦ 215 ¦ [daq_ai6(DaqAIChannel)] Snapshot: Could not update parameter: gain_factor\n",
      "2021-04-06 13:42:23,269 ¦ qcodes.instrument.base ¦ WARNING ¦ base ¦ snapshot_base ¦ 215 ¦ [daq_ai6(DaqAIChannel)] Snapshot: Could not update parameter: impedance\n",
      "2021-04-06 13:42:23,270 ¦ qcodes.instrument.base ¦ WARNING ¦ base ¦ snapshot_base ¦ 215 ¦ [daq_ai6(DaqAIChannel)] Snapshot: Could not update parameter: value\n",
      "2021-04-06 13:42:23,292 ¦ qcodes.instrument.base ¦ WARNING ¦ base ¦ snapshot_base ¦ 215 ¦ [daq_ai7(DaqAIChannel)] Snapshot: Could not update parameter: gain_factor\n",
      "2021-04-06 13:42:23,294 ¦ qcodes.instrument.base ¦ WARNING ¦ base ¦ snapshot_base ¦ 215 ¦ [daq_ai7(DaqAIChannel)] Snapshot: Could not update parameter: impedance\n",
      "2021-04-06 13:42:23,295 ¦ qcodes.instrument.base ¦ WARNING ¦ base ¦ snapshot_base ¦ 215 ¦ [daq_ai7(DaqAIChannel)] Snapshot: Could not update parameter: value\n",
      "2021-04-06 13:42:23,318 ¦ qcodes.instrument.base ¦ WARNING ¦ base ¦ snapshot_base ¦ 215 ¦ [daq_ai16(DaqAIChannel)] Snapshot: Could not update parameter: gain_factor\n",
      "2021-04-06 13:42:23,320 ¦ qcodes.instrument.base ¦ WARNING ¦ base ¦ snapshot_base ¦ 215 ¦ [daq_ai16(DaqAIChannel)] Snapshot: Could not update parameter: impedance\n",
      "2021-04-06 13:42:23,321 ¦ qcodes.instrument.base ¦ WARNING ¦ base ¦ snapshot_base ¦ 215 ¦ [daq_ai16(DaqAIChannel)] Snapshot: Could not update parameter: value\n",
      "2021-04-06 13:42:23,344 ¦ qcodes.instrument.base ¦ WARNING ¦ base ¦ snapshot_base ¦ 215 ¦ [daq_ai17(DaqAIChannel)] Snapshot: Could not update parameter: gain_factor\n",
      "2021-04-06 13:42:23,346 ¦ qcodes.instrument.base ¦ WARNING ¦ base ¦ snapshot_base ¦ 215 ¦ [daq_ai17(DaqAIChannel)] Snapshot: Could not update parameter: impedance\n",
      "2021-04-06 13:42:23,348 ¦ qcodes.instrument.base ¦ WARNING ¦ base ¦ snapshot_base ¦ 215 ¦ [daq_ai17(DaqAIChannel)] Snapshot: Could not update parameter: value\n",
      "2021-04-06 13:42:23,370 ¦ qcodes.instrument.base ¦ WARNING ¦ base ¦ snapshot_base ¦ 215 ¦ [daq_ai18(DaqAIChannel)] Snapshot: Could not update parameter: gain_factor\n",
      "2021-04-06 13:42:23,372 ¦ qcodes.instrument.base ¦ WARNING ¦ base ¦ snapshot_base ¦ 215 ¦ [daq_ai18(DaqAIChannel)] Snapshot: Could not update parameter: impedance\n",
      "2021-04-06 13:42:23,373 ¦ qcodes.instrument.base ¦ WARNING ¦ base ¦ snapshot_base ¦ 215 ¦ [daq_ai18(DaqAIChannel)] Snapshot: Could not update parameter: value\n",
      "2021-04-06 13:42:23,396 ¦ qcodes.instrument.base ¦ WARNING ¦ base ¦ snapshot_base ¦ 215 ¦ [daq_ai19(DaqAIChannel)] Snapshot: Could not update parameter: gain_factor\n",
      "2021-04-06 13:42:23,397 ¦ qcodes.instrument.base ¦ WARNING ¦ base ¦ snapshot_base ¦ 215 ¦ [daq_ai19(DaqAIChannel)] Snapshot: Could not update parameter: impedance\n",
      "2021-04-06 13:42:23,399 ¦ qcodes.instrument.base ¦ WARNING ¦ base ¦ snapshot_base ¦ 215 ¦ [daq_ai19(DaqAIChannel)] Snapshot: Could not update parameter: value\n",
      "2021-04-06 13:42:23,421 ¦ qcodes.instrument.base ¦ WARNING ¦ base ¦ snapshot_base ¦ 215 ¦ [daq_ai20(DaqAIChannel)] Snapshot: Could not update parameter: gain_factor\n",
      "2021-04-06 13:42:23,423 ¦ qcodes.instrument.base ¦ WARNING ¦ base ¦ snapshot_base ¦ 215 ¦ [daq_ai20(DaqAIChannel)] Snapshot: Could not update parameter: impedance\n",
      "2021-04-06 13:42:23,424 ¦ qcodes.instrument.base ¦ WARNING ¦ base ¦ snapshot_base ¦ 215 ¦ [daq_ai20(DaqAIChannel)] Snapshot: Could not update parameter: value\n",
      "2021-04-06 13:42:23,446 ¦ qcodes.instrument.base ¦ WARNING ¦ base ¦ snapshot_base ¦ 215 ¦ [daq_ai21(DaqAIChannel)] Snapshot: Could not update parameter: gain_factor\n",
      "2021-04-06 13:42:23,448 ¦ qcodes.instrument.base ¦ WARNING ¦ base ¦ snapshot_base ¦ 215 ¦ [daq_ai21(DaqAIChannel)] Snapshot: Could not update parameter: impedance\n",
      "2021-04-06 13:42:23,449 ¦ qcodes.instrument.base ¦ WARNING ¦ base ¦ snapshot_base ¦ 215 ¦ [daq_ai21(DaqAIChannel)] Snapshot: Could not update parameter: value\n",
      "2021-04-06 13:42:23,471 ¦ qcodes.instrument.base ¦ WARNING ¦ base ¦ snapshot_base ¦ 215 ¦ [daq_ai22(DaqAIChannel)] Snapshot: Could not update parameter: gain_factor\n",
      "2021-04-06 13:42:23,473 ¦ qcodes.instrument.base ¦ WARNING ¦ base ¦ snapshot_base ¦ 215 ¦ [daq_ai22(DaqAIChannel)] Snapshot: Could not update parameter: impedance\n",
      "2021-04-06 13:42:23,474 ¦ qcodes.instrument.base ¦ WARNING ¦ base ¦ snapshot_base ¦ 215 ¦ [daq_ai22(DaqAIChannel)] Snapshot: Could not update parameter: value\n",
      "2021-04-06 13:42:23,496 ¦ qcodes.instrument.base ¦ WARNING ¦ base ¦ snapshot_base ¦ 215 ¦ [daq_ai23(DaqAIChannel)] Snapshot: Could not update parameter: gain_factor\n",
      "2021-04-06 13:42:23,498 ¦ qcodes.instrument.base ¦ WARNING ¦ base ¦ snapshot_base ¦ 215 ¦ [daq_ai23(DaqAIChannel)] Snapshot: Could not update parameter: impedance\n",
      "2021-04-06 13:42:23,499 ¦ qcodes.instrument.base ¦ WARNING ¦ base ¦ snapshot_base ¦ 215 ¦ [daq_ai23(DaqAIChannel)] Snapshot: Could not update parameter: value\n"
     ]
    },
    {
     "name": "stdout",
     "output_type": "stream",
     "text": [
      "Connected to: OXFORD ITC503 (serial:None, firmware:1.11) in 0.77s\n"
     ]
    },
    {
     "name": "stderr",
     "output_type": "stream",
     "text": [
      "2021-04-06 13:42:26,670 ¦ qcodes.instrument.base ¦ WARNING ¦ base ¦ snapshot_base ¦ 215 ¦ [keith_source(Source2450)] Snapshot: Could not update parameter: sweep_axis\n"
     ]
    },
    {
     "name": "stdout",
     "output_type": "stream",
     "text": [
      "Connected to: KEITHLEY INSTRUMENTS 2450 (serial:04358606, firmware:1.6.4c) in 0.08s\n"
     ]
    },
    {
     "name": "stderr",
     "output_type": "stream",
     "text": [
      "2021-04-06 13:42:31,687 ¦ qcodes.instrument.base ¦ WARNING ¦ base ¦ snapshot_base ¦ 215 ¦ [keith_source(Source2450)] Snapshot: Could not update parameter: user_delay\n",
      "2021-04-06 13:42:31,719 ¦ qcodes.instrument.base ¦ WARNING ¦ base ¦ snapshot_base ¦ 215 ¦ [keith_source(Source2450)] Snapshot: Could not update parameter: sweep_axis\n",
      "2021-04-06 13:42:36,725 ¦ qcodes.instrument.base ¦ WARNING ¦ base ¦ snapshot_base ¦ 215 ¦ [keith_source(Source2450)] Snapshot: Could not update parameter: user_delay\n",
      "2021-04-06 13:42:41,745 ¦ qcodes.instrument.base ¦ WARNING ¦ base ¦ snapshot_base ¦ 215 ¦ [keith_sense(Sense2450)] Snapshot: Could not update parameter: user_delay\n",
      "2021-04-06 13:42:46,771 ¦ qcodes.instrument.base ¦ WARNING ¦ base ¦ snapshot_base ¦ 215 ¦ [keith_sense(Sense2450)] Snapshot: Could not update parameter: user_delay\n",
      "2021-04-06 13:42:51,792 ¦ qcodes.instrument.base ¦ WARNING ¦ base ¦ snapshot_base ¦ 215 ¦ [keith_sense(Sense2450)] Snapshot: Could not update parameter: user_delay\n"
     ]
    },
    {
     "name": "stdout",
     "output_type": "stream",
     "text": [
      "Connected to: LSCI 340 (serial:000000, firmware:021901) in 0.05s\n"
     ]
    },
    {
     "name": "stderr",
     "output_type": "stream",
     "text": [
      "2021-04-06 13:42:52,481 ¦ qcodes.instrument.base ¦ WARNING ¦ base ¦ snapshot_base ¦ 215 ¦ [ls340_output_1(Output_340)] Snapshot: Could not update parameter: mode\n",
      "2021-04-06 13:42:52,513 ¦ qcodes.instrument.base ¦ WARNING ¦ base ¦ snapshot_base ¦ 215 ¦ [ls340_output_1(Output_340)] Snapshot: Could not update parameter: input_channel\n",
      "2021-04-06 13:42:52,535 ¦ qcodes.instrument.base ¦ WARNING ¦ base ¦ snapshot_base ¦ 215 ¦ [ls340_output_1(Output_340)] Snapshot: Could not update parameter: units\n",
      "2021-04-06 13:42:52,538 ¦ qcodes.instrument.base ¦ WARNING ¦ base ¦ snapshot_base ¦ 215 ¦ [ls340_output_1(Output_340)] Snapshot: Could not update parameter: current_or_power\n",
      "2021-04-06 13:42:52,564 ¦ qcodes.instrument.base ¦ WARNING ¦ base ¦ snapshot_base ¦ 215 ¦ [ls340_output_1(Output_340)] Snapshot: Could not update parameter: powerup_enable\n",
      "2021-04-06 13:42:52,732 ¦ qcodes.instrument.base ¦ WARNING ¦ base ¦ snapshot_base ¦ 215 ¦ [ls340_output_2(Output_340)] Snapshot: Could not update parameter: mode\n",
      "2021-04-06 13:42:52,761 ¦ qcodes.instrument.base ¦ WARNING ¦ base ¦ snapshot_base ¦ 215 ¦ [ls340_output_2(Output_340)] Snapshot: Could not update parameter: input_channel\n",
      "2021-04-06 13:42:52,783 ¦ qcodes.instrument.base ¦ WARNING ¦ base ¦ snapshot_base ¦ 215 ¦ [ls340_output_2(Output_340)] Snapshot: Could not update parameter: units\n",
      "2021-04-06 13:42:52,784 ¦ qcodes.instrument.base ¦ WARNING ¦ base ¦ snapshot_base ¦ 215 ¦ [ls340_output_2(Output_340)] Snapshot: Could not update parameter: current_or_power\n",
      "2021-04-06 13:42:52,815 ¦ qcodes.instrument.base ¦ WARNING ¦ base ¦ snapshot_base ¦ 215 ¦ [ls340_output_2(Output_340)] Snapshot: Could not update parameter: powerup_enable\n"
     ]
    },
    {
     "name": "stdout",
     "output_type": "stream",
     "text": [
      "Connected to: Stanford_Research_Systems SR860 (serial:003594, firmware:V1.51) in 0.08s\n"
     ]
    }
   ],
   "source": [
    "instruments = {}\n",
    "for (name, other) in station.snapshot()['config']['instruments'].items():\n",
    "    instruments[name] = station.load_instrument(name)"
   ]
  },
  {
   "cell_type": "code",
   "execution_count": 6,
   "metadata": {},
   "outputs": [
    {
     "name": "stdout",
     "output_type": "stream",
     "text": [
      "{'daq': <Daq: daq>, 'itc': <ITC503: itc>, 'keith': <Keithley2450: keith>, 'ls340': <Model_340: ls340>, 'sr860': <SR860: sr860>}\n"
     ]
    }
   ],
   "source": [
    "print(instruments)\n",
    "daq = instruments['daq']\n",
    "keith = instruments['keith']\n",
    "ls340 = instruments['ls340']\n",
    "itc = instruments['itc']\n",
    "sr860 = instruments['sr860']"
   ]
  },
  {
   "cell_type": "code",
   "execution_count": 115,
   "metadata": {},
   "outputs": [
    {
     "data": {
      "text/plain": [
       "80.0"
      ]
     },
     "execution_count": 115,
     "metadata": {},
     "output_type": "execute_result"
    }
   ],
   "source": [
    "itc.P()"
   ]
  },
  {
   "cell_type": "code",
   "execution_count": 55,
   "metadata": {},
   "outputs": [],
   "source": [
    "sr860.X.label = 'I_sd'\n",
    "sr860.P.label = 'P_I_sd'\n",
    "keith.source.voltage.label = 'V_tg'\n",
    "daq.ai0.voltage.label = 'V_12-13'\n",
    "daq.ai1.voltage.label = 'P_V_12-13'\n",
    "daq.ai2.voltage.label = 'V_2-6'\n",
    "daq.ai3.voltage.label = 'P_V_2-6'\n",
    "daq.ai4.voltage.label = 'V_6-12'\n",
    "daq.ai5.voltage.label = 'P_V_6-12'"
   ]
  },
  {
   "cell_type": "code",
   "execution_count": 103,
   "metadata": {},
   "outputs": [
    {
     "data": {
      "text/plain": [
       "1.3388139665167724"
      ]
     },
     "execution_count": 103,
     "metadata": {},
     "output_type": "execute_result"
    }
   ],
   "source": [
    "daq.ai2.voltage()/2.5"
   ]
  },
  {
   "cell_type": "code",
   "execution_count": 11,
   "metadata": {},
   "outputs": [],
   "source": [
    "db = os.environ['MeasureItHome']+'\\\\Databases\\\\SW2.db'"
   ]
  },
  {
   "cell_type": "markdown",
   "metadata": {},
   "source": [
    "## Initialize the magnet driver"
   ]
  },
  {
   "cell_type": "code",
   "execution_count": 12,
   "metadata": {},
   "outputs": [],
   "source": [
    "magnet = OxfordInstruments_IPS120('magnet', 'GPIB0::25::INSTR', use_gpib=True)"
   ]
  },
  {
   "cell_type": "markdown",
   "metadata": {},
   "source": [
    "## Let's make sure we're connected and everything is as we expect"
   ]
  },
  {
   "cell_type": "code",
   "execution_count": 13,
   "metadata": {},
   "outputs": [
    {
     "data": {
      "text/plain": [
       "'IPS120-10  Version 3.07  (c) OXFORD 1996'"
      ]
     },
     "execution_count": 13,
     "metadata": {},
     "output_type": "execute_result"
    }
   ],
   "source": [
    "magnet.identify()"
   ]
  },
  {
   "cell_type": "code",
   "execution_count": 38,
   "metadata": {},
   "outputs": [
    {
     "name": "stdout",
     "output_type": "stream",
     "text": [
      "System Status: \n",
      "Normal\n",
      "Activity: \n",
      "To zero\n",
      "Local/Remote status: \n",
      "Local and unlocked\n",
      "Switch heater: \n",
      "Off magnet at field (switch closed)\n",
      "Mode: \n",
      "Tesla, Magnet sweep: fast\n",
      "Polarity: \n",
      "Desired: Negative, Magnet: Negative, Commanded: Negative, Both contactors open\n"
     ]
    }
   ],
   "source": [
    "magnet.examine()"
   ]
  },
  {
   "cell_type": "markdown",
   "metadata": {},
   "source": [
    "## Set the control status \n",
    "#### 0 : Local and locked\n",
    "#### 1 : Remote and locked\n",
    "#### 2 : Local and unlocked\n",
    "#### 3 : Remote and unlocked"
   ]
  },
  {
   "cell_type": "code",
   "execution_count": 15,
   "metadata": {},
   "outputs": [],
   "source": [
    "magnet.remote_status(3)"
   ]
  },
  {
   "cell_type": "markdown",
   "metadata": {},
   "source": [
    "### We can check and set the field setpoints and the sweeprate of the field"
   ]
  },
  {
   "cell_type": "code",
   "execution_count": null,
   "metadata": {},
   "outputs": [],
   "source": [
    "magnet.field_setpoint()"
   ]
  },
  {
   "cell_type": "code",
   "execution_count": null,
   "metadata": {},
   "outputs": [],
   "source": [
    "magnet.field_setpoint(0)"
   ]
  },
  {
   "cell_type": "code",
   "execution_count": null,
   "metadata": {},
   "outputs": [],
   "source": [
    "magnet.sweeprate_field()"
   ]
  },
  {
   "cell_type": "code",
   "execution_count": null,
   "metadata": {},
   "outputs": [],
   "source": [
    "magnet.sweeprate_field(0.3)"
   ]
  },
  {
   "cell_type": "markdown",
   "metadata": {},
   "source": [
    "## Check (and set) the activity status\n",
    "#### 0 : Hold\n",
    "#### 1 : Goto zero\n",
    "#### 2 : Goto setpoint"
   ]
  },
  {
   "cell_type": "code",
   "execution_count": null,
   "metadata": {},
   "outputs": [],
   "source": [
    "magnet.activity()"
   ]
  },
  {
   "cell_type": "markdown",
   "metadata": {},
   "source": [
    "## Turn the switch heater on to enable the field to be ramped"
   ]
  },
  {
   "cell_type": "code",
   "execution_count": null,
   "metadata": {},
   "outputs": [],
   "source": [
    "magnet.heater_on()"
   ]
  },
  {
   "cell_type": "markdown",
   "metadata": {},
   "source": [
    "## Now, we can run to the field, either by calling 'run_to_field', or setting the activity to 'goto setpoint' "
   ]
  },
  {
   "cell_type": "code",
   "execution_count": null,
   "metadata": {},
   "outputs": [],
   "source": [
    "magnet.run_to_field(12)"
   ]
  },
  {
   "cell_type": "markdown",
   "metadata": {},
   "source": [
    "## If we want to stay at field to do measurements, hold the field in place by setting persistent mode"
   ]
  },
  {
   "cell_type": "code",
   "execution_count": null,
   "metadata": {},
   "outputs": [],
   "source": [
    "magnet.set_persistent()"
   ]
  },
  {
   "cell_type": "markdown",
   "metadata": {},
   "source": [
    "#### You can check that we're in persistent mode by checking the persistent field (field in the magnet) and the field (which is the current going through the leads- should be 0)"
   ]
  },
  {
   "cell_type": "code",
   "execution_count": null,
   "metadata": {},
   "outputs": [],
   "source": [
    "magnet.persistent_field()"
   ]
  },
  {
   "cell_type": "code",
   "execution_count": null,
   "metadata": {},
   "outputs": [],
   "source": [
    "magnet.field()"
   ]
  },
  {
   "cell_type": "markdown",
   "metadata": {},
   "source": [
    "## Once done, leave persistent mode so we can ramp the field back to zero"
   ]
  },
  {
   "cell_type": "code",
   "execution_count": null,
   "metadata": {},
   "outputs": [],
   "source": [
    "magnet.leave_persistent_mode()"
   ]
  },
  {
   "cell_type": "markdown",
   "metadata": {},
   "source": [
    "## Once we are done, we can go back to 0 either by 'run_to_field' or setting activity to 'goto zero'"
   ]
  },
  {
   "cell_type": "code",
   "execution_count": null,
   "metadata": {},
   "outputs": [],
   "source": [
    "magnet.run_to_field(0)"
   ]
  },
  {
   "cell_type": "markdown",
   "metadata": {},
   "source": [
    "## Finally, switch the heater off and set us to 'hold'"
   ]
  },
  {
   "cell_type": "code",
   "execution_count": 101,
   "metadata": {},
   "outputs": [
    {
     "name": "stdout",
     "output_type": "stream",
     "text": [
      "Setting switch heater... (wait 40s)\n"
     ]
    }
   ],
   "source": [
    "magnet.heater_off()\n",
    "magnet.activity(0)"
   ]
  },
  {
   "cell_type": "markdown",
   "metadata": {},
   "source": [
    "## Double check to make sure the field and current are 0, and it is set to hold, and you can turn the IPS power off"
   ]
  },
  {
   "cell_type": "code",
   "execution_count": null,
   "metadata": {},
   "outputs": [],
   "source": [
    "keithley_tg.output_enabled(1)\n",
    "keithley_bg.output_enabled(1)\n",
    "keithley_sg.output_enabled(1)"
   ]
  },
  {
   "cell_type": "code",
   "execution_count": null,
   "metadata": {},
   "outputs": [],
   "source": [
    "done_with_sweeps=False\n",
    "print(done_with_sweeps)\n",
    "def iterate():\n",
    "    global done_with_sweeps\n",
    "    done_with_sweeps=True\n",
    "\n",
    "iterate()\n",
    "print(done_with_sweeps)"
   ]
  },
  {
   "cell_type": "code",
   "execution_count": null,
   "metadata": {},
   "outputs": [],
   "source": [
    "keithley_tg.source.voltage()"
   ]
  },
  {
   "cell_type": "code",
   "execution_count": null,
   "metadata": {},
   "outputs": [],
   "source": [
    "magnet.run_to_field(0)"
   ]
  },
  {
   "cell_type": "code",
   "execution_count": 54,
   "metadata": {},
   "outputs": [
    {
     "data": {
      "text/plain": [
       "-3.899555e-11"
      ]
     },
     "execution_count": 54,
     "metadata": {},
     "output_type": "execute_result"
    }
   ],
   "source": [
    "keith.sense.current()"
   ]
  },
  {
   "cell_type": "code",
   "execution_count": null,
   "metadata": {},
   "outputs": [],
   "source": [
    "ls340.A.temperature()"
   ]
  },
  {
   "cell_type": "code",
   "execution_count": null,
   "metadata": {},
   "outputs": [],
   "source": [
    "sweep0 = Sweep0D(inter_delay=0.5)\n",
    "sweep0.follow_param(magnet.field)"
   ]
  },
  {
   "cell_type": "code",
   "execution_count": null,
   "metadata": {},
   "outputs": [],
   "source": [
    "sweep0.start()"
   ]
  },
  {
   "cell_type": "code",
   "execution_count": null,
   "metadata": {},
   "outputs": [],
   "source": [
    "magnet.field.get()"
   ]
  },
  {
   "cell_type": "code",
   "execution_count": null,
   "metadata": {},
   "outputs": [],
   "source": [
    "sweep.instrument"
   ]
  },
  {
   "cell_type": "code",
   "execution_count": null,
   "metadata": {},
   "outputs": [],
   "source": [
    "magnet.heater_off()"
   ]
  },
  {
   "cell_type": "code",
   "execution_count": null,
   "metadata": {},
   "outputs": [],
   "source": [
    "magnet.activity(0)"
   ]
  },
  {
   "cell_type": "code",
   "execution_count": 98,
   "metadata": {},
   "outputs": [
    {
     "name": "stdout",
     "output_type": "stream",
     "text": [
      "Setting switch heater... (wait 40s)\n"
     ]
    }
   ],
   "source": [
    "magnet.leave_persistent_mode()"
   ]
  },
  {
   "cell_type": "code",
   "execution_count": 37,
   "metadata": {},
   "outputs": [
    {
     "name": "stdout",
     "output_type": "stream",
     "text": [
      "Setting switch heater... (wait 40s)\n",
      "Waiting for the switch heater to become superconducting\n"
     ]
    }
   ],
   "source": [
    "magnet.set_persistent()"
   ]
  },
  {
   "cell_type": "code",
   "execution_count": null,
   "metadata": {},
   "outputs": [],
   "source": [
    "magnet.field_setpoint(0.1)"
   ]
  },
  {
   "cell_type": "code",
   "execution_count": null,
   "metadata": {},
   "outputs": [],
   "source": [
    "magnet.mode2()"
   ]
  },
  {
   "cell_type": "code",
   "execution_count": null,
   "metadata": {},
   "outputs": [],
   "source": [
    "magnet.persistent_field()"
   ]
  },
  {
   "cell_type": "code",
   "execution_count": 97,
   "metadata": {},
   "outputs": [],
   "source": [
    "try:\n",
    "    # Make sure database_name and the path are set to the correct values!\n",
    "    db = 'Databases\\\\SW2.db'\n",
    "    exp_name = \"B sweep 6-0T\"\n",
    "    sample_name = \"Hall_V9-14=1mVac_T=4K_Vbg=0V_gain=1e8_meas 2-6 12-13 6-12\"\n",
    "    initialise_or_create_database_at(db)\n",
    "    qc.new_experiment(name=exp_name, sample_name=sample_name)\n",
    "except:\n",
    "    print(\"Error opening database\")"
   ]
  },
  {
   "cell_type": "code",
   "execution_count": 99,
   "metadata": {},
   "outputs": [],
   "source": [
    "sweep = SweepIPS(magnet, 0, inter_delay=0.25, save_data=True, persistent_magnet=False, plot_data = True)\n",
    "sweep.follow_param(sr860.X, sr860.P, keith.sense.current, daq.ai0.voltage, daq.ai1.voltage, daq.ai2.voltage, daq.ai3.voltage, daq.ai4.voltage, daq.ai5.voltage)"
   ]
  },
  {
   "cell_type": "code",
   "execution_count": 100,
   "metadata": {},
   "outputs": [
    {
     "name": "stdout",
     "output_type": "stream",
     "text": [
      "Starting experimental run with id: 81. \n",
      "Checking the status of the magnet and switch heater.\n",
      "Heater is already on, so the magnet was not in persistent mode\n",
      "Done with the sweep, t=1201.780999999959 s\n",
      "Done with the sweep!\n"
     ]
    }
   ],
   "source": [
    "sweep.start()"
   ]
  },
  {
   "cell_type": "code",
   "execution_count": null,
   "metadata": {},
   "outputs": [],
   "source": [
    "sweep.plotter.data_queue"
   ]
  },
  {
   "cell_type": "code",
   "execution_count": null,
   "metadata": {},
   "outputs": [],
   "source": [
    "sweep.stop()"
   ]
  },
  {
   "cell_type": "code",
   "execution_count": 43,
   "metadata": {},
   "outputs": [],
   "source": [
    "sweep.kill()"
   ]
  },
  {
   "cell_type": "code",
   "execution_count": 104,
   "metadata": {},
   "outputs": [],
   "source": [
    "sweep_gate = Sweep1D(keith.source.voltage, -8, 0, .05, inter_delay=0.25, bidirectional=False, save_data=False, plot_data=True, x_axis_time=False)\n",
    "sweep_gate.follow_param(sr860.X, sr860.P, keith.sense.current, daq.ai0.voltage, daq.ai1.voltage, daq.ai2.voltage, daq.ai3.voltage, daq.ai4.voltage, daq.ai5.voltage)"
   ]
  },
  {
   "cell_type": "code",
   "execution_count": 105,
   "metadata": {},
   "outputs": [
    {
     "name": "stdout",
     "output_type": "stream",
     "text": [
      "Ramping to our starting setpoint value of -8 V\n",
      "Done ramping V_tg to -8\n",
      "Sweeping V_tg to 0 V\n"
     ]
    }
   ],
   "source": [
    "sweep_gate.start()"
   ]
  },
  {
   "cell_type": "code",
   "execution_count": 106,
   "metadata": {},
   "outputs": [
    {
     "data": {
      "text/plain": [
       "False"
      ]
     },
     "execution_count": 106,
     "metadata": {},
     "output_type": "execute_result"
    }
   ],
   "source": [
    "sweep_gate.is_running"
   ]
  },
  {
   "cell_type": "code",
   "execution_count": 107,
   "metadata": {},
   "outputs": [],
   "source": [
    "sweep_gate.kill()"
   ]
  },
  {
   "cell_type": "code",
   "execution_count": 94,
   "metadata": {},
   "outputs": [
    {
     "data": {
      "text/plain": [
       "1.7027949103388373"
      ]
     },
     "execution_count": 94,
     "metadata": {},
     "output_type": "execute_result"
    }
   ],
   "source": [
    "daq.ai6.voltage()"
   ]
  },
  {
   "cell_type": "code",
   "execution_count": null,
   "metadata": {},
   "outputs": [],
   "source": [
    "ramp_sg = Sweep1D(keithley_sg.source.voltage, 0, 10, -.1, inter_delay=0.25, save_data=False, x_axis_time = False)\n",
    "ramp_sg.follow_param(daq.ai0.voltage, daq.ai1.voltage, daq.ai2.voltage, daq.ai3.voltage, daq.ai4.voltage, daq.ai5.voltage, sr830.X, sr830.P, sr860.X, sr860.P)"
   ]
  },
  {
   "cell_type": "code",
   "execution_count": null,
   "metadata": {},
   "outputs": [],
   "source": [
    "ramp_sg.start()"
   ]
  },
  {
   "cell_type": "code",
   "execution_count": null,
   "metadata": {},
   "outputs": [],
   "source": [
    "sweep_queue = SweepQueue(inter_delay = 1)\n",
    "exp_name = '210203-Landau_fan_unknown_temp_Vsg=10V'\n",
    "\n",
    "Vtg_min, Vtg_max = -8., 8.\n",
    "Vtg_step_slow = 0.05\n",
    "Vtg_step_fast = 0.2\n",
    "\n",
    "Vbg_min, Vbg_max = -13., 13.\n",
    "Vbg_step_slow = 0.08\n",
    "Vbg_step_fast = 0.3\n",
    "\n",
    "inter_delay_slow = 0.5\n",
    "inter_delay_fast = 0.25\n",
    "\n",
    "N = 60 #data points\n",
    "B_start, B_end = 2.5, 6.25\n",
    "B_crit = 5\n",
    "\n",
    "for B in np.linspace(B_start, B_end, N):\n",
    "    #Magnet sweep\n",
    "    if B>=B_crit:\n",
    "        persistent_magnet = True\n",
    "    else:\n",
    "        persistent_magnet = False\n",
    "    mag_sweep = SweepIPS(magnet, B, inter_delay=0.25, save_data=False, persistent_magnet=persistent_magnet)\n",
    "    #mag_sweep.follow_param(ls340.A.temperature)\n",
    "    \n",
    "    # Create the database entry\n",
    "    sample_name = f'B={B:.2f}T_sweep-mag'\n",
    "    db_entry = DatabaseEntry(db, exp_name, sample_name)\n",
    "    sweep_queue.append(db_entry)\n",
    "    sweep_queue.append(mag_sweep)\n",
    "    \n",
    "    # TG sweep\n",
    "    tg_initialize = Sweep1D(keithley_tg.source.voltage, 0, Vtg_min, Vtg_step_fast, inter_delay=inter_delay_fast, x_axis_time=0, save_data = False)\n",
    "    tg_sweep = Sweep1D(keithley_tg.source.voltage, Vtg_min, Vtg_max, Vtg_step_slow, inter_delay=inter_delay_slow, x_axis_time=0, save_data = True)\n",
    "    tg_rampdown = Sweep1D(keithley_tg.source.voltage, Vtg_max, 0, Vtg_step_fast, inter_delay=inter_delay_fast, x_axis_time=0, save_data = False)\n",
    "    \n",
    "    tg_sweep.follow_param(daq.ai0.voltage, daq.ai1.voltage, daq.ai2.voltage, daq.ai3.voltage, daq.ai4.voltage, daq.ai5.voltage, sr830.X, sr830.P, sr860.X, sr860.P)\n",
    "    \n",
    "    # Create the database entry\n",
    "    sample_name = f'B={B:.2f}T_Vbg=0V_sweep-Vtg'\n",
    "    db_entry = DatabaseEntry(db, exp_name, sample_name)\n",
    "    sweep_queue.append(db_entry)\n",
    "    sweep_queue.append(tg_initialize, tg_sweep, tg_rampdown)\n",
    "\n",
    "    bg_initialize = Sweep1D(keithley_bg.source.voltage, 0, Vbg_min, Vbg_step_fast, inter_delay=inter_delay_fast, x_axis_time=0, save_data = False)\n",
    "    bg_sweep = Sweep1D(keithley_bg.source.voltage, Vbg_min, Vbg_max, Vbg_step_slow, inter_delay=inter_delay_slow, x_axis_time=0, save_data = True)\n",
    "    bg_rampdown = Sweep1D(keithley_bg.source.voltage, Vbg_max, 0, Vbg_step_fast, inter_delay=inter_delay_fast, x_axis_time=0, save_data = False)\n",
    "    \n",
    "    bg_sweep.follow_param(daq.ai0.voltage, daq.ai1.voltage, daq.ai2.voltage, daq.ai3.voltage, daq.ai4.voltage, daq.ai5.voltage, sr830.X, sr830.P, sr860.X, sr860.P)\n",
    "    \n",
    "    # Create the database entry\n",
    "    sample_name = f'B={B:.2f}T_Vtg=0V_sweep-Vbg'\n",
    "    db_entry = DatabaseEntry(db, exp_name, sample_name)\n",
    "    sweep_queue.append(db_entry)\n",
    "    sweep_queue.append(bg_initialize, bg_sweep, bg_rampdown)\n",
    "    \n"
   ]
  },
  {
   "cell_type": "code",
   "execution_count": null,
   "metadata": {},
   "outputs": [],
   "source": [
    "for item in sweep_queue.queue:\n",
    "    print(item)"
   ]
  },
  {
   "cell_type": "code",
   "execution_count": null,
   "metadata": {},
   "outputs": [],
   "source": [
    "sweep_queue.start()"
   ]
  },
  {
   "cell_type": "code",
   "execution_count": null,
   "metadata": {},
   "outputs": [],
   "source": [
    "sweep_queue.current_sweep"
   ]
  },
  {
   "cell_type": "code",
   "execution_count": null,
   "metadata": {},
   "outputs": [],
   "source": [
    "print(sweep_queue.current_sweep)"
   ]
  },
  {
   "cell_type": "code",
   "execution_count": null,
   "metadata": {},
   "outputs": [],
   "source": [
    "sweep.update_values()"
   ]
  },
  {
   "cell_type": "code",
   "execution_count": null,
   "metadata": {},
   "outputs": [],
   "source": [
    "sweep_queue.current_sweep"
   ]
  },
  {
   "cell_type": "code",
   "execution_count": null,
   "metadata": {},
   "outputs": [],
   "source": [
    "sweep.runner"
   ]
  },
  {
   "cell_type": "code",
   "execution_count": null,
   "metadata": {},
   "outputs": [],
   "source": [
    "sweep.save_data"
   ]
  },
  {
   "cell_type": "code",
   "execution_count": null,
   "metadata": {},
   "outputs": [],
   "source": [
    "sweep_queue.current_sweep.stop()"
   ]
  },
  {
   "cell_type": "code",
   "execution_count": null,
   "metadata": {},
   "outputs": [],
   "source": [
    "magnet.activity(0)"
   ]
  },
  {
   "cell_type": "code",
   "execution_count": null,
   "metadata": {},
   "outputs": [],
   "source": [
    "sweep_queue.queue"
   ]
  },
  {
   "cell_type": "code",
   "execution_count": null,
   "metadata": {},
   "outputs": [],
   "source": []
  }
 ],
 "metadata": {
  "kernelspec": {
   "display_name": "Python 3",
   "language": "python",
   "name": "python3"
  },
  "language_info": {
   "codemirror_mode": {
    "name": "ipython",
    "version": 3
   },
   "file_extension": ".py",
   "mimetype": "text/x-python",
   "name": "python",
   "nbconvert_exporter": "python",
   "pygments_lexer": "ipython3",
   "version": "3.7.9"
  }
 },
 "nbformat": 4,
 "nbformat_minor": 4
}
