{
 "cells": [
  {
   "cell_type": "code",
   "execution_count": 1,
   "metadata": {},
   "outputs": [
    {
     "name": "stdout",
     "output_type": "stream",
     "text": [
      "Logging hadn't been started.\n",
      "Activating auto-logging. Current session state plus future input saved.\n",
      "Filename       : C:\\Users\\nanouser\\.qcodes\\logs\\command_history.log\n",
      "Mode           : append\n",
      "Output logging : True\n",
      "Raw input log  : False\n",
      "Timestamping   : True\n",
      "State          : active\n",
      "Qcodes Logfile : C:\\Users\\nanouser\\.qcodes\\logs\\210415-12416-qcodes.log\n"
     ]
    }
   ],
   "source": [
    "import src\n",
    "from src.simul_sweep import SimulSweep\n",
    "from src.daq_driver import Daq\n",
    "from src.base_sweep import BaseSweep\n",
    "import nidaqmx\n",
    "import time, os\n",
    "import numpy as np\n",
    "import qcodes as qc\n",
    "from src.util import connect_to_station, connect_station_instruments\n",
    "from qcodes import initialise_or_create_database_at, load_by_run_spec\n",
    "from qcodes import Station\n",
    "from qcodes.instrument_drivers.Lakeshore.Model_372 import Model_372\n",
    "from qcodes.instrument_drivers.american_magnetics.AMI430 import AMI430\n",
    "from qcodes.instrument_drivers.stanford_research.SR860 import SR860\n",
    "from qcodes_contrib_drivers.drivers.Oxford.IPS120 import OxfordInstruments_IPS120"
   ]
  },
  {
   "cell_type": "markdown",
   "metadata": {},
   "source": [
    "## Initialize the magnet driver"
   ]
  },
  {
   "cell_type": "code",
   "execution_count": 2,
   "metadata": {},
   "outputs": [],
   "source": [
    "magnet = OxfordInstruments_IPS120('magnet', 'GPIB0::25::INSTR', use_gpib=True)"
   ]
  },
  {
   "cell_type": "markdown",
   "metadata": {},
   "source": [
    "## Let's make sure we're connected and everything is as we expect"
   ]
  },
  {
   "cell_type": "code",
   "execution_count": 3,
   "metadata": {},
   "outputs": [
    {
     "data": {
      "text/plain": [
       "'IPS120-10  Version 3.07  (c) OXFORD 1996'"
      ]
     },
     "execution_count": 3,
     "metadata": {},
     "output_type": "execute_result"
    }
   ],
   "source": [
    "magnet.identify()"
   ]
  },
  {
   "cell_type": "code",
   "execution_count": 4,
   "metadata": {},
   "outputs": [
    {
     "name": "stdout",
     "output_type": "stream",
     "text": [
      "System Status: \n",
      "Normal\n",
      "Activity: \n",
      "Hold\n",
      "Local/Remote status: \n",
      "Local and locked\n",
      "Switch heater: \n",
      "Off magnet at zero (switch closed)\n",
      "Mode: \n",
      "Tesla, Magnet sweep: fast\n",
      "Polarity: \n",
      "Desired: Positive, Magnet: Positive, Commanded: Positive, Both contactors open\n"
     ]
    }
   ],
   "source": [
    "magnet.examine()"
   ]
  },
  {
   "cell_type": "markdown",
   "metadata": {},
   "source": [
    "## Set the control status \n",
    "#### 0 : Local and locked\n",
    "#### 1 : Remote and locked\n",
    "#### 2 : Local and unlocked\n",
    "#### 3 : Remote and unlocked"
   ]
  },
  {
   "cell_type": "code",
   "execution_count": 5,
   "metadata": {},
   "outputs": [],
   "source": [
    "magnet.remote_status(3)"
   ]
  },
  {
   "cell_type": "markdown",
   "metadata": {},
   "source": [
    "### We can check and set the field setpoints and the sweeprate of the field"
   ]
  },
  {
   "cell_type": "code",
   "execution_count": 9,
   "metadata": {},
   "outputs": [
    {
     "data": {
      "text/plain": [
       "1.0"
      ]
     },
     "execution_count": 9,
     "metadata": {},
     "output_type": "execute_result"
    }
   ],
   "source": [
    "magnet.field_setpoint()"
   ]
  },
  {
   "cell_type": "code",
   "execution_count": 7,
   "metadata": {},
   "outputs": [],
   "source": [
    "magnet.field_setpoint(1)"
   ]
  },
  {
   "cell_type": "code",
   "execution_count": 8,
   "metadata": {},
   "outputs": [
    {
     "data": {
      "text/plain": [
       "0.3"
      ]
     },
     "execution_count": 8,
     "metadata": {},
     "output_type": "execute_result"
    }
   ],
   "source": [
    "magnet.sweeprate_field()"
   ]
  },
  {
   "cell_type": "code",
   "execution_count": 7,
   "metadata": {},
   "outputs": [],
   "source": [
    "magnet.sweeprate_field(0.3)"
   ]
  },
  {
   "cell_type": "markdown",
   "metadata": {},
   "source": [
    "## Check (and set) the activity status\n",
    "#### 0 : Hold\n",
    "#### 1 : Goto zero\n",
    "#### 2 : Goto setpoint"
   ]
  },
  {
   "cell_type": "code",
   "execution_count": 10,
   "metadata": {},
   "outputs": [
    {
     "data": {
      "text/plain": [
       "'Hold'"
      ]
     },
     "execution_count": 10,
     "metadata": {},
     "output_type": "execute_result"
    }
   ],
   "source": [
    "magnet.activity()"
   ]
  },
  {
   "cell_type": "markdown",
   "metadata": {},
   "source": [
    "## Turn the switch heater on to enable the field to be ramped"
   ]
  },
  {
   "cell_type": "code",
   "execution_count": 11,
   "metadata": {},
   "outputs": [
    {
     "name": "stdout",
     "output_type": "stream",
     "text": [
      "Setting switch heater... (wait 40s)\n"
     ]
    }
   ],
   "source": [
    "magnet.heater_on()"
   ]
  },
  {
   "cell_type": "markdown",
   "metadata": {},
   "source": [
    "## Now, we can run to the field, either by calling 'run_to_field', or setting the activity to 'goto setpoint' "
   ]
  },
  {
   "cell_type": "code",
   "execution_count": 18,
   "metadata": {},
   "outputs": [],
   "source": [
    "magnet.run_to_field(6)"
   ]
  },
  {
   "cell_type": "markdown",
   "metadata": {},
   "source": [
    "## If we want to stay at field to do measurements, hold the field in place by setting persistent mode"
   ]
  },
  {
   "cell_type": "code",
   "execution_count": 19,
   "metadata": {},
   "outputs": [
    {
     "name": "stdout",
     "output_type": "stream",
     "text": [
      "Setting switch heater... (wait 40s)\n",
      "Waiting for the switch heater to become superconducting\n"
     ]
    }
   ],
   "source": [
    "magnet.set_persistent()"
   ]
  },
  {
   "cell_type": "markdown",
   "metadata": {},
   "source": [
    "#### You can check that we're in persistent mode by checking the persistent field (field in the magnet) and the field (which is the current going through the leads- should be 0)"
   ]
  },
  {
   "cell_type": "code",
   "execution_count": 12,
   "metadata": {},
   "outputs": [
    {
     "data": {
      "text/plain": [
       "0.0"
      ]
     },
     "execution_count": 12,
     "metadata": {},
     "output_type": "execute_result"
    }
   ],
   "source": [
    "magnet.persistent_field()"
   ]
  },
  {
   "cell_type": "code",
   "execution_count": 25,
   "metadata": {},
   "outputs": [
    {
     "data": {
      "text/plain": [
       "0.0"
      ]
     },
     "execution_count": 25,
     "metadata": {},
     "output_type": "execute_result"
    }
   ],
   "source": [
    "magnet.field()"
   ]
  },
  {
   "cell_type": "markdown",
   "metadata": {},
   "source": [
    "## Once done, leave persistent mode so we can ramp the field back to zero"
   ]
  },
  {
   "cell_type": "code",
   "execution_count": 24,
   "metadata": {},
   "outputs": [
    {
     "name": "stdout",
     "output_type": "stream",
     "text": [
      "Setting switch heater... (wait 40s)\n"
     ]
    }
   ],
   "source": [
    "magnet.leave_persistent_mode()"
   ]
  },
  {
   "cell_type": "markdown",
   "metadata": {},
   "source": [
    "## Once we are done, we can go back to 0 either by 'run_to_field' or setting activity to 'goto zero'"
   ]
  },
  {
   "cell_type": "code",
   "execution_count": 21,
   "metadata": {},
   "outputs": [],
   "source": [
    "magnet.run_to_field(0)"
   ]
  },
  {
   "cell_type": "markdown",
   "metadata": {},
   "source": [
    "## Finally, switch the heater off and set us to 'hold'"
   ]
  },
  {
   "cell_type": "code",
   "execution_count": 28,
   "metadata": {},
   "outputs": [
    {
     "name": "stdout",
     "output_type": "stream",
     "text": [
      "Setting switch heater... (wait 40s)\n"
     ]
    }
   ],
   "source": [
    "magnet.heater_off()\n",
    "magnet.activity(0)"
   ]
  },
  {
   "cell_type": "markdown",
   "metadata": {},
   "source": [
    "## Double check to make sure the field and current are 0, and it is set to hold, and you can turn the IPS power off"
   ]
  },
  {
   "cell_type": "code",
   "execution_count": null,
   "metadata": {},
   "outputs": [],
   "source": []
  },
  {
   "cell_type": "code",
   "execution_count": 19,
   "metadata": {},
   "outputs": [
    {
     "ename": "SyntaxError",
     "evalue": "invalid syntax (<ipython-input-19-ac960e9a51c4>, line 6)",
     "output_type": "error",
     "traceback": [
      "\u001b[1;36m  File \u001b[1;32m\"<ipython-input-19-ac960e9a51c4>\"\u001b[1;36m, line \u001b[1;32m6\u001b[0m\n\u001b[1;33m    tg_forward_sweep = Sweep1D(keithley_tg.source.voltage, -8, 8, .05, inter_delay=.5, x_axis_time=0, complete_func=)\u001b[0m\n\u001b[1;37m                                                                                                                    ^\u001b[0m\n\u001b[1;31mSyntaxError\u001b[0m\u001b[1;31m:\u001b[0m invalid syntax\n"
     ]
    }
   ],
   "source": [
    "def mag_sweep(magnet_value):\n",
    "    if abs(magnet_value) < 5:\n",
    "        magnet.leave_persistent_mode()\n",
    "        magnet.run_to_field(magnet_value)\n",
    "        magnet.set_persistent()\n",
    "    else:\n",
    "        magnet.run_to_field(magnet_value)\n",
    "\n",
    "done_with_sweeps=False\n",
    "def iterate():\n",
    "    done_with_sweeps=True\n",
    "\n",
    "for B in mag_value:\n",
    "    done_with_sweeps = False\n",
    "    \n",
    "    tg_zero_sweep = Sweep1D(keithley_tg.source.voltage, 0, -8, .15, inter_delay=.5, x_axis_time=0)\n",
    "    tg_forward_sweep = Sweep1D(keithley_tg.source.voltage, -8, 8, .05, inter_delay=.5, x_axis_time=0)\n",
    "    tg_backward_sweep = Sweep1D(keithley_tg.source.voltage, 8, 0, .15, inter_delay=.5, x_axis_time=0)\n",
    "\n",
    "    tg_zero_sweep.follow_param()\n",
    "\n",
    "    mag_sweep(B)\n",
    "    sleep(0.3*(dB)*60)\n",
    "    \n",
    "    tg_zero_sweep.set_complete_func(tg_forward_sweep.start)\n",
    "    tg_forward_sweep.set_complete_func(tg_backward_sweep.start)\n",
    "    tg_backward_sweep.set_complete_func(iterate #lambda: step_magnet(B))\n",
    "    \n",
    "    #tg_zero_sweep.start()\n",
    "    \n",
    "    while not done_with_sweeps:\n",
    "        sleep(1)\n",
    "    while tg_zero_sweep.is_running:\n",
    "        sleep(0.1)\n",
    "    while tg_forward_sweep.isrunning:\n",
    "        sleep(0.1)\n"
   ]
  },
  {
   "cell_type": "code",
   "execution_count": 20,
   "metadata": {},
   "outputs": [],
   "source": [
    "from src.sweep_ips import SweepIPS"
   ]
  },
  {
   "cell_type": "code",
   "execution_count": 21,
   "metadata": {},
   "outputs": [
    {
     "name": "stdout",
     "output_type": "stream",
     "text": [
      "Connected to: Stanford_Research_Systems SR860 (serial:003594, firmware:V1.51) in 0.07s\n"
     ]
    }
   ],
   "source": [
    "sr860 = SR860('sr860', 'USB0::0xB506::0x2000::003594::INSTR')"
   ]
  },
  {
   "cell_type": "code",
   "execution_count": 22,
   "metadata": {},
   "outputs": [],
   "source": [
    "sweep = SweepIPS(magnet, 0, inter_delay=0.25, save_data=True, persistent_magnet=False, plot_data = True)\n",
    "sweep.follow_param(sr860.X, sr860.P)"
   ]
  },
  {
   "cell_type": "code",
   "execution_count": 23,
   "metadata": {},
   "outputs": [],
   "source": [
    "try:\n",
    "    # Make sure database_name and the path are set to the correct values!\n",
    "    db = 'Databases\\\\SW2.db'\n",
    "    exp_name = \"B sweep T=1p5K Vbg=+100V_Vtg=+1V\"\n",
    "    sample_name = \"V2-6=500uVac_gain=1e8_ground others\"\n",
    "    initialise_or_create_database_at(db)\n",
    "    qc.new_experiment(name=exp_name, sample_name=sample_name)\n",
    "except:\n",
    "    print(\"Error opening database\")"
   ]
  },
  {
   "cell_type": "code",
   "execution_count": 25,
   "metadata": {},
   "outputs": [
    {
     "data": {
      "image/png": "[encoded data removed]",
      "text/plain": [
       "<Figure size 648x648 with 4 Axes>"
      ]
     },
     "metadata": {
      "needs_background": "light"
     },
     "output_type": "display_data"
    },
    {
     "name": "stdout",
     "output_type": "stream",
     "text": [
      "Starting experimental run with id: 177. \n",
      "Checking the status of the magnet and switch heater.\n",
      "Heater is already on, so the magnet was not in persistent mode\n",
      "Done with the sweep, t=1201.8280000000086 s\n"
     ]
    }
   ],
   "source": [
    "sweep.start()"
   ]
  },
  {
   "cell_type": "code",
   "execution_count": 27,
   "metadata": {},
   "outputs": [],
   "source": [
    "sweep.kill()"
   ]
  },
  {
   "cell_type": "code",
   "execution_count": 26,
   "metadata": {},
   "outputs": [
    {
     "name": "stdout",
     "output_type": "stream",
     "text": [
      "Done with the sweep!\n"
     ]
    },
    {
     "data": {
      "text/plain": [
       "False"
      ]
     },
     "execution_count": 26,
     "metadata": {},
     "output_type": "execute_result"
    }
   ],
   "source": [
    "sweep.is_running"
   ]
  },
  {
   "cell_type": "code",
   "execution_count": null,
   "metadata": {},
   "outputs": [],
   "source": []
  }
 ],
 "metadata": {
  "kernelspec": {
   "display_name": "Python 3",
   "language": "python",
   "name": "python3"
  },
  "language_info": {
   "codemirror_mode": {
    "name": "ipython",
    "version": 3
   },
   "file_extension": ".py",
   "mimetype": "text/x-python",
   "name": "python",
   "nbconvert_exporter": "python",
   "pygments_lexer": "ipython3",
   "version": "3.7.9"
  }
 },
 "nbformat": 4,
 "nbformat_minor": 4
}
