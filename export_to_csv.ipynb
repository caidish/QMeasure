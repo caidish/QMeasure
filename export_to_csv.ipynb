{
 "cells": [
  {
   "cell_type": "markdown",
   "metadata": {},
   "source": [
    "# Example QCoDeS Sweep Script for Dilution Refrigerator"
   ]
  },
  {
   "cell_type": "markdown",
   "metadata": {},
   "source": [
    "## This block of code must be run- it imports all the relevant libraries and packages"
   ]
  },
  {
   "cell_type": "code",
   "execution_count": 1,
   "metadata": {},
   "outputs": [
    {
     "name": "stderr",
     "output_type": "stream",
     "text": [
      "C:\\Users\\erunb\\Anaconda3\\envs\\qcodes\\lib\\site-packages\\visa.py:23: FutureWarning: The visa module provided by PyVISA is being deprecated. You can replace `import visa` by `import pyvisa as visa` to achieve the same effect.\n",
      "\n",
      "The reason for the deprecation is the possible conflict with the visa package provided by the https://github.com/visa-sdk/visa-python which can result in hard to debug situations.\n",
      "  FutureWarning,\n"
     ]
    }
   ],
   "source": [
    "import src\n",
    "from src.sweep0d import Sweep0D\n",
    "from src.sweep1d import Sweep1D\n",
    "from src.sweep2d import Sweep2D\n",
    "from src.daq_driver import Daq, DaqAOChannel, DaqAIChannel\n",
    "from src.util import init_database\n",
    "from src.tracking import *\n",
    "import nidaqmx\n",
    "import time\n",
    "import numpy as np\n",
    "import qcodes as qc\n",
    "import os\n",
    "from qcodes.dataset.measurements import Measurement\n",
    "from qcodes import initialise_or_create_database_at, load_or_create_experiment, load_experiment_by_name\n",
    "from qcodes.dataset.experiment_container import experiments\n",
    "from qcodes.dataset.data_set import load_by_run_spec\n",
    "from qcodes.dataset.data_export import get_data_by_id\n",
    "from qcodes.instrument_drivers.Lakeshore.Model_372 import Model_372\n",
    "from qcodes.instrument_drivers.american_magnetics.AMI430 import AMI430\n",
    "from qcodes.instrument_drivers.stanford_research.SR860 import SR860"
   ]
  },
  {
   "cell_type": "markdown",
   "metadata": {},
   "source": [
    "## The next blocks are specific to various instruments - you only need to run the blocks for the instruments you wish to control/get data from."
   ]
  },
  {
   "cell_type": "markdown",
   "metadata": {},
   "source": [
    "### If you want to use the Lakeshore temperature controller, run this to initialize it"
   ]
  },
  {
   "cell_type": "code",
   "execution_count": null,
   "metadata": {},
   "outputs": [],
   "source": [
    "ls = Model_372('lakeshore_372', 'TCPIP::10.155.95.127::7777::SOCKET')\n",
    "ls.ch01.enabled(True)\n",
    "ls.ch02.enabled(True)\n",
    "ls.ch03.enabled(True)\n",
    "ls.ch05.enabled(True)\n",
    "ls.ch06.enabled(True)\n",
    "for ch in ls.channels:\n",
    "    print(f'Temperature of {ch.short_name} ({\"on\" if ch.enabled() else \"off\"}): {ch.temperature()} {ch.units()}')"
   ]
  },
  {
   "cell_type": "markdown",
   "metadata": {},
   "source": [
    "### Initialize the magnet here"
   ]
  },
  {
   "cell_type": "code",
   "execution_count": null,
   "metadata": {},
   "outputs": [],
   "source": [
    "magnet = AMI430(\"Magnet\", address=\"10.155.94.127\", port=7180, has_current_rating=False)"
   ]
  },
  {
   "cell_type": "markdown",
   "metadata": {},
   "source": [
    "### Initialize the DAQ here"
   ]
  },
  {
   "cell_type": "code",
   "execution_count": 2,
   "metadata": {},
   "outputs": [],
   "source": [
    "daq = Daq(\"Dev1\", \"Daq\")"
   ]
  },
  {
   "cell_type": "markdown",
   "metadata": {},
   "source": [
    "## Optional: change your parameter labels to more descriptive values for clarity"
   ]
  },
  {
   "cell_type": "code",
   "execution_count": null,
   "metadata": {},
   "outputs": [],
   "source": [
    "# Command takes the form\n",
    "# <QCoDeS Parameter>.label=\"label descriptor\"\n",
    "daq.ai0.voltage.label=\"Isd\"\n",
    "daq.ai1.voltage.label=\"Vxx\"\n",
    "daq.ai2.voltage.label=\"Vxy\""
   ]
  },
  {
   "cell_type": "markdown",
   "metadata": {},
   "source": [
    "## Create your sweep object here! \n",
    "### The arguments for the 1D sweep shown here are, in order, the parameter to be swept, the starting point, ending point, step value, delay between steps, flag to sweep back and forth, whether to save data, and plot data, and whether to plot the parameters against time or the sweeping parameter\n",
    "### The only required arguments are the parameter, start, stop, and step values"
   ]
  },
  {
   "cell_type": "code",
   "execution_count": 3,
   "metadata": {},
   "outputs": [],
   "source": [
    "sweep = Sweep1D(daq.ao0.voltage, 0, 5, 0.05, inter_delay = 0.1, bidirectional = True, save_data = True, \n",
    "            plot_data = True, x_axis_time = 1, plot_bin=1, continual=False)"
   ]
  },
  {
   "cell_type": "markdown",
   "metadata": {},
   "source": [
    "## Tell the sweep which other parameters to track during the sweep. Here, we have added the magnetic field, the temperature, and a couple DAQ channels"
   ]
  },
  {
   "cell_type": "code",
   "execution_count": 4,
   "metadata": {},
   "outputs": [],
   "source": [
    "sweep.follow_param(daq.ai0.voltage, daq.ai1.voltage, daq.ai3.voltage)"
   ]
  },
  {
   "cell_type": "markdown",
   "metadata": {},
   "source": [
    "## Now, we initialize/create the database we are saving to (if you want to save data)\n",
    "## You can run this code between each run to give the data identifiers through *exp_name* and *sample_name*"
   ]
  },
  {
   "cell_type": "code",
   "execution_count": 5,
   "metadata": {},
   "outputs": [
    {
     "name": "stdout",
     "output_type": "stream",
     "text": [
      "Error opening database\n"
     ]
    }
   ],
   "source": [
    "try:\n",
    "    # Make sure database_name and the path are set to the correct values!\n",
    "    database_name = \"temp_data.db\"\n",
    "    exp_name = \"hardcoded\"\n",
    "    sample_name = \"Example sample- Sweep field_Gain=10^6_T=10mK_Vg=3V_measure I12_float others\"\n",
    "    init_database(database_name, exp_name, sample_name, sweep)\n",
    "except:\n",
    "    print(\"Error opening database\")"
   ]
  },
  {
   "cell_type": "markdown",
   "metadata": {},
   "source": [
    "## Now, we can start the sweep! This will automatically start data collection, plotting, saving, etc"
   ]
  },
  {
   "cell_type": "code",
   "execution_count": 6,
   "metadata": {},
   "outputs": [
    {
     "name": "stdout",
     "output_type": "stream",
     "text": [
      "Sweeping ao0 Voltage to 5 V\n",
      "Starting experimental run with id: 4. \n",
      "Done with the sweep, ao0 Voltage=-3.191891195797325e-16\n"
     ]
    }
   ],
   "source": [
    "%matplotlib qt\n",
    "sweep.start(ramp_to_start=False)"
   ]
  },
  {
   "cell_type": "code",
   "execution_count": null,
   "metadata": {},
   "outputs": [],
   "source": [
    "sweep.datasaver.add_result(('time', 1111111) (sweep.))"
   ]
  },
  {
   "cell_type": "markdown",
   "metadata": {},
   "source": [
    "### To stop the sweep, run the stop command below. To restart it, you can run the start command from above again."
   ]
  },
  {
   "cell_type": "code",
   "execution_count": null,
   "metadata": {},
   "outputs": [],
   "source": [
    "sweep.start()"
   ]
  },
  {
   "cell_type": "markdown",
   "metadata": {},
   "source": [
    "# EXPORT DATA TO CSV FILE"
   ]
  },
  {
   "cell_type": "code",
   "execution_count": 11,
   "metadata": {},
   "outputs": [
    {
     "ename": "ValueError",
     "evalue": "Many experiments matching your request found:\nexp_id:1 (Example experiment- Magnetic field dependence-Example sample- Sweep field_Gain=10^6_T=10mK_Vg=3V_measure I12_float others) started at (1579823376.1693838)\nexp_id:2 (Example experiment- Magnetic field dependence-Example sample- Sweep field_Gain=10^6_T=10mK_Vg=3V_measure I12_float others) started at (1579823611.8670948)\nexp_id:3 (Example experiment- Magnetic field dependence-Example sample- Sweep field_Gain=10^6_T=10mK_Vg=3V_measure I12_float others) started at (1579824441.2748234)",
     "output_type": "error",
     "traceback": [
      "\u001b[1;31m---------------------------------------------------------------------------\u001b[0m",
      "\u001b[1;31mValueError\u001b[0m                                Traceback (most recent call last)",
      "\u001b[1;32m<ipython-input-11-9e1450e73faa>\u001b[0m in \u001b[0;36m<module>\u001b[1;34m\u001b[0m\n\u001b[0;32m      2\u001b[0m \u001b[0mfilepath\u001b[0m \u001b[1;33m=\u001b[0m \u001b[0mos\u001b[0m\u001b[1;33m.\u001b[0m\u001b[0menviron\u001b[0m\u001b[1;33m[\u001b[0m\u001b[1;34m'MeasureItHome'\u001b[0m\u001b[1;33m]\u001b[0m \u001b[1;33m+\u001b[0m \u001b[1;34m'\\\\Databases\\\\'\u001b[0m \u001b[1;33m+\u001b[0m \u001b[1;34m'temp_data.db'\u001b[0m\u001b[1;33m\u001b[0m\u001b[1;33m\u001b[0m\u001b[0m\n\u001b[0;32m      3\u001b[0m \u001b[0minitialise_or_create_database_at\u001b[0m\u001b[1;33m(\u001b[0m\u001b[0mfilepath\u001b[0m\u001b[1;33m)\u001b[0m\u001b[1;33m\u001b[0m\u001b[1;33m\u001b[0m\u001b[0m\n\u001b[1;32m----> 4\u001b[1;33m \u001b[0mexp\u001b[0m \u001b[1;33m=\u001b[0m \u001b[0mload_experiment_by_name\u001b[0m\u001b[1;33m(\u001b[0m\u001b[1;34m'Example experiment- Magnetic field dependence'\u001b[0m\u001b[1;33m)\u001b[0m\u001b[1;33m\u001b[0m\u001b[1;33m\u001b[0m\u001b[0m\n\u001b[0m\u001b[0;32m      5\u001b[0m \u001b[0mexp\u001b[0m\u001b[1;33m.\u001b[0m\u001b[0mdata_sets\u001b[0m\u001b[1;33m(\u001b[0m\u001b[1;33m)\u001b[0m\u001b[1;33m\u001b[0m\u001b[1;33m\u001b[0m\u001b[0m\n",
      "\u001b[1;32mc:\\users\\erunb\\qcodes\\qcodes\\dataset\\experiment_container.py\u001b[0m in \u001b[0;36mload_experiment_by_name\u001b[1;34m(name, sample, conn)\u001b[0m\n\u001b[0;32m    301\u001b[0m             \u001b[0m_repr\u001b[0m\u001b[1;33m.\u001b[0m\u001b[0mappend\u001b[0m\u001b[1;33m(\u001b[0m\u001b[0ms\u001b[0m\u001b[1;33m)\u001b[0m\u001b[1;33m\u001b[0m\u001b[1;33m\u001b[0m\u001b[0m\n\u001b[0;32m    302\u001b[0m         \u001b[0m_repr_str\u001b[0m \u001b[1;33m=\u001b[0m \u001b[1;34m\"\\n\"\u001b[0m\u001b[1;33m.\u001b[0m\u001b[0mjoin\u001b[0m\u001b[1;33m(\u001b[0m\u001b[0m_repr\u001b[0m\u001b[1;33m)\u001b[0m\u001b[1;33m\u001b[0m\u001b[1;33m\u001b[0m\u001b[0m\n\u001b[1;32m--> 303\u001b[1;33m         raise ValueError(f\"Many experiments matching your request\"\n\u001b[0m\u001b[0;32m    304\u001b[0m                          f\" found:\\n{_repr_str}\")\n\u001b[0;32m    305\u001b[0m     \u001b[1;32melse\u001b[0m\u001b[1;33m:\u001b[0m\u001b[1;33m\u001b[0m\u001b[1;33m\u001b[0m\u001b[0m\n",
      "\u001b[1;31mValueError\u001b[0m: Many experiments matching your request found:\nexp_id:1 (Example experiment- Magnetic field dependence-Example sample- Sweep field_Gain=10^6_T=10mK_Vg=3V_measure I12_float others) started at (1579823376.1693838)\nexp_id:2 (Example experiment- Magnetic field dependence-Example sample- Sweep field_Gain=10^6_T=10mK_Vg=3V_measure I12_float others) started at (1579823611.8670948)\nexp_id:3 (Example experiment- Magnetic field dependence-Example sample- Sweep field_Gain=10^6_T=10mK_Vg=3V_measure I12_float others) started at (1579824441.2748234)"
     ]
    }
   ],
   "source": [
    "# Ensure that the names of the database/experiment/sample are right\n",
    "filepath = os.environ['MeasureItHome'] + '\\\\Databases\\\\' + '.db'\n",
    "initialise_or_create_database_at(filepath)\n",
    "exp = load_experiment_by_name('Example experiment- Magnetic field dependence')\n",
    "exp.data_sets()"
   ]
  },
  {
   "cell_type": "code",
   "execution_count": 71,
   "metadata": {},
   "outputs": [],
   "source": [
    "#pick out the run id that you want-- the number after results, before the @\n",
    "run_id = 4"
   ]
  },
  {
   "cell_type": "code",
   "execution_count": 79,
   "metadata": {},
   "outputs": [],
   "source": [
    "dataset = load_by_run_spec(\n",
    "    experiment_name=exp_name,\n",
    "    sample_name=sample_name,\n",
    "    captured_run_id=run_id\n",
    ")\n",
    "\n",
    "df = dataset.get_data_as_pandas_dataframe()\n",
    "ds = pd.DataFrame()\n",
    "for key,value in df.items():\n",
    "    ds[[key]]=value[[key]]"
   ]
  },
  {
   "cell_type": "code",
   "execution_count": 74,
   "metadata": {},
   "outputs": [],
   "source": [
    "# Choose where you want the CSV saved\n",
    "\n",
    "ds.to_csv(os.environ['MeasureItHome'] + '\\\\Databases\\\\' + 'temp_data_from_pandas2.csv')"
   ]
  },
  {
   "cell_type": "code",
   "execution_count": 14,
   "metadata": {
    "scrolled": true
   },
   "outputs": [
    {
     "data": {
      "text/plain": [
       "[Example experiment- Magnetic field dependence#Example sample- Sweep field_Gain=10^6_T=10mK_Vg=3V_measure I12_float others#1@C:\\Users\\erunb\\MeasureIt\\Databases\\temp_data.db\n",
       " ---------------------------------------------------------------------------------------------------------------------------------------------------------------------------,\n",
       " Example experiment- Magnetic field dependence#Example sample- Sweep field_Gain=10^6_T=10mK_Vg=3V_measure I12_float others#2@C:\\Users\\erunb\\MeasureIt\\Databases\\temp_data.db\n",
       " ---------------------------------------------------------------------------------------------------------------------------------------------------------------------------\n",
       " 1-results-1-Dev1_ai1_voltage,Dev1_ai0_voltage,Dev1_ao0_voltage,time,Dev1_ai3_voltage-1015,\n",
       " Example experiment- Magnetic field dependence#Example sample- Sweep field_Gain=10^6_T=10mK_Vg=3V_measure I12_float others#3@C:\\Users\\erunb\\MeasureIt\\Databases\\temp_data.db\n",
       " ---------------------------------------------------------------------------------------------------------------------------------------------------------------------------\n",
       " 2-results-1-Dev1_ao0_voltage,Dev1_ai3_voltage,Dev1_ai1_voltage,time,Dev1_ai0_voltage-1010,\n",
       " data as list#Example sample- Sweep field_Gain=10^6_T=10mK_Vg=3V_measure I12_float others#4@C:\\Users\\erunb\\MeasureIt\\Databases\\temp_data.db\n",
       " ------------------------------------------------------------------------------------------------------------------------------------------\n",
       " 3-results-1-Dev1_ao0_voltage,Dev1_ai1_voltage,time,Dev1_ai3_voltage,Dev1_ai0_voltage-0,\n",
       " hardcoded#Example sample- Sweep field_Gain=10^6_T=10mK_Vg=3V_measure I12_float others#5@C:\\Users\\erunb\\MeasureIt\\Databases\\temp_data.db\n",
       " ---------------------------------------------------------------------------------------------------------------------------------------\n",
       " 4-results-1-Dev1_ai1_voltage,Dev1_ai3_voltage,Dev1_ai0_voltage,time,Dev1_ao0_voltage-1010]"
      ]
     },
     "execution_count": 14,
     "metadata": {},
     "output_type": "execute_result"
    }
   ],
   "source": [
    "experiments()"
   ]
  },
  {
   "cell_type": "code",
   "execution_count": null,
   "metadata": {},
   "outputs": [],
   "source": [
    "%matplotlib qt\n",
    "plot.create_figs()"
   ]
  },
  {
   "cell_type": "code",
   "execution_count": null,
   "metadata": {},
   "outputs": [],
   "source": [
    "plot.clear()"
   ]
  },
  {
   "cell_type": "code",
   "execution_count": null,
   "metadata": {},
   "outputs": [],
   "source": [
    "plot.create_figs()"
   ]
  },
  {
   "cell_type": "code",
   "execution_count": null,
   "metadata": {},
   "outputs": [],
   "source": [
    "plot.isRunning()"
   ]
  },
  {
   "cell_type": "code",
   "execution_count": null,
   "metadata": {},
   "outputs": [],
   "source": [
    "\n",
    "sweep.ramp_to(0.1)"
   ]
  },
  {
   "cell_type": "code",
   "execution_count": null,
   "metadata": {},
   "outputs": [],
   "source": [
    "import matplotlib.pyplot as plt\n",
    "plt.get_fignums()"
   ]
  },
  {
   "cell_type": "code",
   "execution_count": null,
   "metadata": {},
   "outputs": [],
   "source": [
    "plt.figure(3)"
   ]
  },
  {
   "cell_type": "code",
   "execution_count": null,
   "metadata": {},
   "outputs": [],
   "source": [
    "sweep.resume()"
   ]
  },
  {
   "cell_type": "code",
   "execution_count": null,
   "metadata": {},
   "outputs": [],
   "source": [
    "sweep.runner.datasaver.dataset.get_data_as_pandas_dataframe()"
   ]
  },
  {
   "cell_type": "code",
   "execution_count": null,
   "metadata": {},
   "outputs": [],
   "source": [
    "from src.* import *"
   ]
  },
  {
   "cell_type": "code",
   "execution_count": null,
   "metadata": {},
   "outputs": [],
   "source": [
    "def foo(*args):\n",
    "    for x in args:\n",
    "        print(x[0])\n",
    "        print(x[1])"
   ]
  },
  {
   "cell_type": "code",
   "execution_count": null,
   "metadata": {},
   "outputs": [],
   "source": [
    "test = [('x',1), ('y',2), ('z',3)]"
   ]
  },
  {
   "cell_type": "code",
   "execution_count": null,
   "metadata": {},
   "outputs": [],
   "source": [
    "foo(*test)"
   ]
  },
  {
   "cell_type": "code",
   "execution_count": null,
   "metadata": {},
   "outputs": [],
   "source": [
    "__all__"
   ]
  },
  {
   "cell_type": "code",
   "execution_count": null,
   "metadata": {},
   "outputs": [],
   "source": [
    "src.__all__"
   ]
  },
  {
   "cell_type": "code",
   "execution_count": null,
   "metadata": {},
   "outputs": [],
   "source": [
    "Sweep1D()"
   ]
  },
  {
   "cell_type": "code",
   "execution_count": null,
   "metadata": {},
   "outputs": [],
   "source": [
    "for mod in src.__all__:\n",
    "    exec('from src.{} import *'.format(mod))"
   ]
  },
  {
   "cell_type": "code",
   "execution_count": null,
   "metadata": {},
   "outputs": [],
   "source": [
    "Sweep1D()"
   ]
  },
  {
   "cell_type": "code",
   "execution_count": null,
   "metadata": {},
   "outputs": [],
   "source": [
    "src.sweep1d.Sweep1D()"
   ]
  },
  {
   "cell_type": "code",
   "execution_count": null,
   "metadata": {},
   "outputs": [],
   "source": [
    "Sweep0D()"
   ]
  },
  {
   "cell_type": "code",
   "execution_count": null,
   "metadata": {},
   "outputs": [],
   "source": [
    "from src.sweep0d import *"
   ]
  },
  {
   "cell_type": "code",
   "execution_count": null,
   "metadata": {},
   "outputs": [],
   "source": [
    "import sys\n",
    "sys.modules[src.base_sweep]"
   ]
  },
  {
   "cell_type": "code",
   "execution_count": null,
   "metadata": {},
   "outputs": [],
   "source": [
    "from src.sweep0d import Sweep0D"
   ]
  },
  {
   "cell_type": "code",
   "execution_count": 20,
   "metadata": {},
   "outputs": [],
   "source": [
    "exps = experiments()\n",
    "dsets = []\n",
    "for exp in exps:\n",
    "    for ds in exp.data_sets():\n",
    "        new_ds = {}\n",
    "        new_ds['run id'] = ds.run_id\n",
    "        new_ds['exp name'] = ds.exp_name\n",
    "        new_ds['sample name'] = ds.sample_name\n",
    "        new_ds['db'] = ds.path_to_db\n",
    "        ds = load_by_run_spec(\n",
    "            experiment_name=new_ds['exp name'],\n",
    "            sample_name=new_ds['sample name'],\n",
    "            captured_run_id=new_ds['run id']\n",
    "        )\n",
    "        dsets.append(ds)"
   ]
  },
  {
   "cell_type": "code",
   "execution_count": 21,
   "metadata": {},
   "outputs": [
    {
     "data": {
      "text/plain": [
       "[results #1@C:\\Users\\erunb\\MeasureIt\\Databases\\temp_data.db\n",
       " ----------------------------------------------------------\n",
       " Dev1_ao0_voltage - numeric\n",
       " Dev1_ai1_voltage - numeric\n",
       " Dev1_ai3_voltage - numeric\n",
       " time - numeric\n",
       " Dev1_ai0_voltage - numeric,\n",
       " results #2@C:\\Users\\erunb\\MeasureIt\\Databases\\temp_data.db\n",
       " ----------------------------------------------------------\n",
       " Dev1_ao0_voltage - numeric\n",
       " Dev1_ai1_voltage - numeric\n",
       " Dev1_ai3_voltage - numeric\n",
       " time - numeric\n",
       " Dev1_ai0_voltage - numeric,\n",
       " results #3@C:\\Users\\erunb\\MeasureIt\\Databases\\temp_data.db\n",
       " ----------------------------------------------------------\n",
       " Dev1_ao0_voltage - numeric\n",
       " Dev1_ai1_voltage - numeric\n",
       " Dev1_ai3_voltage - numeric\n",
       " time - numeric\n",
       " Dev1_ai0_voltage - numeric,\n",
       " results #4@C:\\Users\\erunb\\MeasureIt\\Databases\\temp_data.db\n",
       " ----------------------------------------------------------\n",
       " Dev1_ao0_voltage - numeric\n",
       " Dev1_ai1_voltage - numeric\n",
       " Dev1_ai3_voltage - numeric\n",
       " time - numeric\n",
       " Dev1_ai0_voltage - numeric]"
      ]
     },
     "execution_count": 21,
     "metadata": {},
     "output_type": "execute_result"
    }
   ],
   "source": [
    "dsets"
   ]
  },
  {
   "cell_type": "code",
   "execution_count": 22,
   "metadata": {},
   "outputs": [],
   "source": [
    "df=dsets[0].get_data_as_pandas_dataframe()"
   ]
  },
  {
   "cell_type": "code",
   "execution_count": 28,
   "metadata": {},
   "outputs": [
    {
     "name": "stdout",
     "output_type": "stream",
     "text": [
      "ao0 Voltage\n",
      "ai1 Voltage\n",
      "ai3 Voltage\n",
      "Time\n",
      "ai0 Voltage\n"
     ]
    }
   ],
   "source": [
    "for name, ps in dsets[0].paramspecs.items():\n",
    "    print(ps.label)"
   ]
  },
  {
   "cell_type": "code",
   "execution_count": 40,
   "metadata": {},
   "outputs": [
    {
     "name": "stdout",
     "output_type": "stream",
     "text": [
      "     ai0 Voltage (V)  ai1 Voltage (V)  ai3 Voltage (V)  ao0 Voltage (V)  \\\n",
      "0          -0.000594        -0.000101         0.698741     0.000000e+00   \n",
      "1           0.049734         0.000064         0.663708     5.000000e-02   \n",
      "2           0.099569        -0.000101         0.479335     1.000000e-01   \n",
      "3           0.149569        -0.000265         0.315850     1.500000e-01   \n",
      "4           0.199733        -0.000101         0.201377     2.000000e-01   \n",
      "..               ...              ...              ...              ...   \n",
      "198         0.149733        -0.000101         0.009110     1.500000e-01   \n",
      "199         0.099569        -0.000265         0.010754     1.000000e-01   \n",
      "200         0.049405        -0.000101         0.008616     5.000000e-02   \n",
      "201        -0.000430         0.000064         0.010096    -3.191891e-16   \n",
      "202        -0.000594        -0.000594         0.694794    -3.191891e-16   \n",
      "\n",
      "     Time (s)  \n",
      "0       4.141  \n",
      "1       4.235  \n",
      "2       4.344  \n",
      "3       4.453  \n",
      "4       4.547  \n",
      "..        ...  \n",
      "198    25.110  \n",
      "199    25.219  \n",
      "200    25.328  \n",
      "201    25.422  \n",
      "202   813.250  \n",
      "\n",
      "[203 rows x 5 columns]\n"
     ]
    }
   ],
   "source": [
    "import pandas as pd\n",
    "export_ds = pd.DataFrame()\n",
    "ds = dsets[0]\n",
    "for key, value in df.items():\n",
    "    #print(key)\n",
    "    #print(value)\n",
    "    label = find_param_label(key, ds)\n",
    "    export_ds[[label]] = value[[key]] \n",
    "    \n",
    "print(export_ds)\n",
    "export_ds.to_csv(os.environ['MeasureItHome']+'\\\\Databases\\\\new_export.csv')"
   ]
  },
  {
   "cell_type": "code",
   "execution_count": 38,
   "metadata": {},
   "outputs": [],
   "source": [
    "    def find_param_label(name, ds):\n",
    "        use_name = name\n",
    "        unit = None\n",
    "        for p_name, ps in ds.paramspecs.items():\n",
    "            if name == p_name:\n",
    "                unit = ps.unit\n",
    "                if ps.label is not None:\n",
    "                    use_name = ps.label\n",
    "\n",
    "        if unit is not None:\n",
    "            use_name = f'{use_name} ({unit})'\n",
    "        return use_name"
   ]
  },
  {
   "cell_type": "code",
   "execution_count": 2,
   "metadata": {},
   "outputs": [],
   "source": [
    "initialise_or_create_database_at('Z:\\\\google-drive\\\\WTe2\\\\THz_WTe2_1\\\\THz_WTe2_1.db')"
   ]
  },
  {
   "cell_type": "code",
   "execution_count": 3,
   "metadata": {},
   "outputs": [],
   "source": [
    "exps = experiments()"
   ]
  },
  {
   "cell_type": "code",
   "execution_count": 4,
   "metadata": {},
   "outputs": [
    {
     "data": {
      "text/plain": [
       "[G-Vg T=4K#V6-12=1mVac_gain=1e8_offset=1.52V#1@Z:\\google-drive\\WTe2\\THz_WTe2_1\\THz_WTe2_1.db\n",
       " -------------------------------------------------------------------------------------------,\n",
       " G-Vg T=4K#V6-12=1mVac_gain=1e8_offset=1.52V#2@Z:\\google-drive\\WTe2\\THz_WTe2_1\\THz_WTe2_1.db\n",
       " -------------------------------------------------------------------------------------------\n",
       " 1-results-1-keith_source_voltage,time,daq_ai0_voltage,keith_sense_current-486\n",
       " 2-results-2-keith_source_voltage,time,daq_ai0_voltage,keith_sense_current-312,\n",
       " G-Vg T=4K#V6-12=1mVac_gain=1e7_offset=1.52V#3@Z:\\google-drive\\WTe2\\THz_WTe2_1\\THz_WTe2_1.db\n",
       " -------------------------------------------------------------------------------------------\n",
       " 3-results-1-keith_source_voltage,time,daq_ai0_voltage,keith_sense_current-570\n",
       " 4-results-2-keith_source_voltage,time,daq_ai0_voltage,keith_sense_current-348\n",
       " 5-results-3-keith_source_voltage,time,daq_ai0_voltage,keith_sense_current-906,\n",
       " G-Vg T=4K#V5-6=1mVac_gain=1e7_offset=1.52V#4@Z:\\google-drive\\WTe2\\THz_WTe2_1\\THz_WTe2_1.db\n",
       " ------------------------------------------------------------------------------------------\n",
       " 6-results-1-keith_source_voltage,time,daq_ai0_voltage,keith_sense_current-1614,\n",
       " G-Vg T=40K#V5-6=1mVac_gain=1e7#5@Z:\\google-drive\\WTe2\\THz_WTe2_1\\THz_WTe2_1.db\n",
       " ------------------------------------------------------------------------------\n",
       " 7-results-1-keith_source_voltage,time,daq_ai0_voltage,keith_sense_current-1383,\n",
       " G-Vbg T=4K#V5-11=1mVdc_gain=1e7_float other#6@Z:\\google-drive\\WTe2\\THz_WTe2_1\\THz_WTe2_1.db\n",
       " -------------------------------------------------------------------------------------------,\n",
       " I-V T=4K#V5-11=1mVdc_gain=1e7_float other#7@Z:\\google-drive\\WTe2\\THz_WTe2_1\\THz_WTe2_1.db\n",
       " -----------------------------------------------------------------------------------------,\n",
       " I-V T=4K#V5-11=1mVac_gain=1e7_float other#8@Z:\\google-drive\\WTe2\\THz_WTe2_1\\THz_WTe2_1.db\n",
       " -----------------------------------------------------------------------------------------\n",
       " 8-results-1-daq_ao0_voltage,time,daq_ai0_voltage,keith_sense_current-606\n",
       " 9-results-2-daq_ao0_voltage,time,daq_ai0_voltage,keith_sense_current-606,\n",
       " I-V_T=4K#V5-11=1mVdc_gain=1e7_float other#9@Z:\\google-drive\\WTe2\\THz_WTe2_1\\THz_WTe2_1.db\n",
       " -----------------------------------------------------------------------------------------\n",
       " 10-results-1-daq_ao0_voltage,time,daq_ai0_voltage,keith_sense_current,ls_ChanA_temperature-192\n",
       " 11-results-2-daq_ao0_voltage,time,daq_ai0_voltage-202\n",
       " 12-results-3-daq_ao0_voltage,time,daq_ai0_voltage-308\n",
       " 13-results-4-daq_ao0_voltage,time,daq_ai0_voltage-404,\n",
       " I-V_T=4K#V5-11=1mVdc_gain=1e7_ground other#10@Z:\\google-drive\\WTe2\\THz_WTe2_1\\THz_WTe2_1.db\n",
       " -------------------------------------------------------------------------------------------\n",
       " 14-results-1-daq_ao0_voltage,time,daq_ai0_voltage-404,\n",
       " I-V_T=4K#V5-12=1mVdc_gain=1e7_ground other#11@Z:\\google-drive\\WTe2\\THz_WTe2_1\\THz_WTe2_1.db\n",
       " -------------------------------------------------------------------------------------------\n",
       " 15-results-1-daq_ao0_voltage,time,daq_ai0_voltage-404,\n",
       " I-V_T=4K#V5-12=1mVdc_gain=1e7_float other#12@Z:\\google-drive\\WTe2\\THz_WTe2_1\\THz_WTe2_1.db\n",
       " ------------------------------------------------------------------------------------------\n",
       " 16-results-1-daq_ao0_voltage,time,daq_ai0_voltage-404,\n",
       " I-V_T=4K#V11-12=1mVdc_gain=1e7_float other#13@Z:\\google-drive\\WTe2\\THz_WTe2_1\\THz_WTe2_1.db\n",
       " -------------------------------------------------------------------------------------------\n",
       " 17-results-1-daq_ao0_voltage,time,daq_ai0_voltage-404,\n",
       " I-V_T=4K#V11-12=1mVdc_gain=1e8_float other#14@Z:\\google-drive\\WTe2\\THz_WTe2_1\\THz_WTe2_1.db\n",
       " -------------------------------------------------------------------------------------------\n",
       " 18-results-1-daq_ao0_voltage,time,daq_ai0_voltage-404,\n",
       " I-V_T=4K#V11-12=1mVdc_gain=1e8_float other#15@Z:\\google-drive\\WTe2\\THz_WTe2_1\\THz_WTe2_1.db\n",
       " -------------------------------------------------------------------------------------------\n",
       " 19-results-1-daq_ao0_voltage,time,daq_ai0_voltage-404,\n",
       " I-V_T=4K#V5-11=1mVdc_gain=1e8_float other#16@Z:\\google-drive\\WTe2\\THz_WTe2_1\\THz_WTe2_1.db\n",
       " ------------------------------------------------------------------------------------------\n",
       " 20-results-1-daq_ao0_voltage,time,daq_ai0_voltage-404,\n",
       " I-V_T=4K#V5-11=1mVdc_gain=1e8_ground other#17@Z:\\google-drive\\WTe2\\THz_WTe2_1\\THz_WTe2_1.db\n",
       " -------------------------------------------------------------------------------------------\n",
       " 21-results-1-daq_ao0_voltage,time,daq_ai0_voltage-404,\n",
       " G-Vg_T=4K#V5-11=1mVdc_gain=1e8_float other#18@Z:\\google-drive\\WTe2\\THz_WTe2_1\\THz_WTe2_1.db\n",
       " -------------------------------------------------------------------------------------------,\n",
       " G-Vg_T=4K#V5-11=1mVdc_gain=1e8_float other_offset=1p78V#19@Z:\\google-drive\\WTe2\\THz_WTe2_1\\THz_WTe2_1.db\n",
       " --------------------------------------------------------------------------------------------------------\n",
       " 22-results-1-keith_source_voltage,time,daq_ai0_voltage,keith_sense_current-1470\n",
       " 23-results-2-keith_source_voltage,time,daq_ai0_voltage,keith_sense_current-1839\n",
       " 24-results-3-keith_source_voltage,time,daq_ai0_voltage,keith_sense_current-7206,\n",
       " G-Vg T=4K#V5-11=1mVac_gain=1e8_float other#20@Z:\\google-drive\\WTe2\\THz_WTe2_1\\THz_WTe2_1.db\n",
       " -------------------------------------------------------------------------------------------\n",
       " 25-results-1-keith_source_voltage,time,sr860_X,sr860_P,keith_sense_current-2404,\n",
       " G-Vg T=4K#V5-11=1mVac_gain=1e8_float other#21@Z:\\google-drive\\WTe2\\THz_WTe2_1\\THz_WTe2_1.db\n",
       " -------------------------------------------------------------------------------------------\n",
       " 26-results-1-keith_source_voltage,time,sr860_X,sr860_P,keith_sense_current-9608,\n",
       " G-Vg T=4K#V5-11=1mVac_gain=1e7_float other#22@Z:\\google-drive\\WTe2\\THz_WTe2_1\\THz_WTe2_1.db\n",
       " -------------------------------------------------------------------------------------------\n",
       " 27-results-1-keith_source_voltage,time,sr860_X,sr860_P,keith_sense_current-9608,\n",
       " G-Vg T=4K#V5-11=1mVac_gain=1e7_ground other#23@Z:\\google-drive\\WTe2\\THz_WTe2_1\\THz_WTe2_1.db\n",
       " --------------------------------------------------------------------------------------------\n",
       " 28-results-1-keith_source_voltage,time,sr860_X,sr860_P,keith_sense_current-9608,\n",
       " G-Vg T=4K#V5-12=1mVac_gain=1e7_float other#24@Z:\\google-drive\\WTe2\\THz_WTe2_1\\THz_WTe2_1.db\n",
       " -------------------------------------------------------------------------------------------\n",
       " 29-results-1-keith_source_voltage,time,sr860_X,sr860_P,keith_sense_current-9608,\n",
       " G-Vg T=4K#V5-12=1mVac_gain=1e7_ground other#25@Z:\\google-drive\\WTe2\\THz_WTe2_1\\THz_WTe2_1.db\n",
       " --------------------------------------------------------------------------------------------\n",
       " 30-results-1-keith_source_voltage,time,sr860_X,sr860_P,keith_sense_current-9608,\n",
       " G-Vg T=4K#V11-12=1mVac_gain=1e7_ground other#26@Z:\\google-drive\\WTe2\\THz_WTe2_1\\THz_WTe2_1.db\n",
       " ---------------------------------------------------------------------------------------------\n",
       " 31-results-1-keith_source_voltage,time,sr860_X,sr860_P,keith_sense_current-9608,\n",
       " G-Vg T=4K#V11-12=1mVac_gain=1e7_float other#27@Z:\\google-drive\\WTe2\\THz_WTe2_1\\THz_WTe2_1.db\n",
       " --------------------------------------------------------------------------------------------\n",
       " 32-results-1-keith_source_voltage,time,sr860_X,sr860_P,keith_sense_current-9608,\n",
       " G-Vg T=40K#V11-12=1mVac_gain=1e7_float other#28@Z:\\google-drive\\WTe2\\THz_WTe2_1\\THz_WTe2_1.db\n",
       " ---------------------------------------------------------------------------------------------\n",
       " 33-results-1-keith_source_voltage,time,sr860_X,sr860_P,keith_sense_current-9608,\n",
       " G-Vg T=40K#V5-11=1mVac_gain=1e7_float other#29@Z:\\google-drive\\WTe2\\THz_WTe2_1\\THz_WTe2_1.db\n",
       " --------------------------------------------------------------------------------------------\n",
       " 34-results-1-keith_source_voltage,time,sr860_X,sr860_P,keith_sense_current-244\n",
       " 35-results-2-keith_source_voltage,time,sr860_X,sr860_P,keith_sense_current-9608,\n",
       " G-Vg T=40K#V5-11=1mVac_gain=1e7_ground other#30@Z:\\google-drive\\WTe2\\THz_WTe2_1\\THz_WTe2_1.db\n",
       " ---------------------------------------------------------------------------------------------,\n",
       " G-Vg T=40K#V5-11=1mVac_gain=1e7_ground other#31@Z:\\google-drive\\WTe2\\THz_WTe2_1\\THz_WTe2_1.db\n",
       " ---------------------------------------------------------------------------------------------\n",
       " 36-results-1-keith_source_voltage,time,sr860_X,sr860_P,keith_sense_current-9608,\n",
       " G-Vg T=40K#V11-12=1mVac_gain=1e7_ground other#32@Z:\\google-drive\\WTe2\\THz_WTe2_1\\THz_WTe2_1.db\n",
       " ----------------------------------------------------------------------------------------------\n",
       " 37-results-1-keith_source_voltage,time,sr860_X,sr860_P,keith_sense_current-9608,\n",
       " G-Vg T=40K#V5-12=1mVac_gain=1e7_ground other#33@Z:\\google-drive\\WTe2\\THz_WTe2_1\\THz_WTe2_1.db\n",
       " ---------------------------------------------------------------------------------------------,\n",
       " G-Vg T=40K#V5-12=1mVac_gain=1e7_ground other#34@Z:\\google-drive\\WTe2\\THz_WTe2_1\\THz_WTe2_1.db\n",
       " ---------------------------------------------------------------------------------------------\n",
       " 38-results-1-keith_source_voltage,time,sr860_X,sr860_P,keith_sense_current-9608,\n",
       " G-Vg T=40K#V5-12=1mVac_gain=1e7_float other#35@Z:\\google-drive\\WTe2\\THz_WTe2_1\\THz_WTe2_1.db\n",
       " --------------------------------------------------------------------------------------------\n",
       " 39-results-1-keith_source_voltage,time,sr860_X,sr860_P,keith_sense_current-4780]"
      ]
     },
     "execution_count": 4,
     "metadata": {},
     "output_type": "execute_result"
    }
   ],
   "source": [
    "exps"
   ]
  },
  {
   "cell_type": "code",
   "execution_count": 9,
   "metadata": {},
   "outputs": [],
   "source": [
    "d_sets = []\n",
    "for exp in exps:\n",
    "    for ds in exp.data_sets():\n",
    "        new_ds = {}\n",
    "        new_ds['run id'] = ds.run_id\n",
    "        new_ds['exp name'] = ds.exp_name\n",
    "        new_ds['sample name'] = ds.sample_name\n",
    "        new_ds['db'] = ds.path_to_db\n",
    "        d_sets.append(ds)"
   ]
  },
  {
   "cell_type": "code",
   "execution_count": 10,
   "metadata": {},
   "outputs": [
    {
     "data": {
      "text/plain": [
       "[results #1@Z:\\google-drive\\WTe2\\THz_WTe2_1\\THz_WTe2_1.db\n",
       " --------------------------------------------------------\n",
       " keith_source_voltage - numeric\n",
       " time - numeric\n",
       " daq_ai0_voltage - numeric\n",
       " keith_sense_current - numeric,\n",
       " results #2@Z:\\google-drive\\WTe2\\THz_WTe2_1\\THz_WTe2_1.db\n",
       " --------------------------------------------------------\n",
       " keith_source_voltage - numeric\n",
       " time - numeric\n",
       " daq_ai0_voltage - numeric\n",
       " keith_sense_current - numeric,\n",
       " results #3@Z:\\google-drive\\WTe2\\THz_WTe2_1\\THz_WTe2_1.db\n",
       " --------------------------------------------------------\n",
       " keith_source_voltage - numeric\n",
       " time - numeric\n",
       " daq_ai0_voltage - numeric\n",
       " keith_sense_current - numeric,\n",
       " results #4@Z:\\google-drive\\WTe2\\THz_WTe2_1\\THz_WTe2_1.db\n",
       " --------------------------------------------------------\n",
       " keith_source_voltage - numeric\n",
       " time - numeric\n",
       " daq_ai0_voltage - numeric\n",
       " keith_sense_current - numeric,\n",
       " results #5@Z:\\google-drive\\WTe2\\THz_WTe2_1\\THz_WTe2_1.db\n",
       " --------------------------------------------------------\n",
       " keith_source_voltage - numeric\n",
       " time - numeric\n",
       " daq_ai0_voltage - numeric\n",
       " keith_sense_current - numeric,\n",
       " results #6@Z:\\google-drive\\WTe2\\THz_WTe2_1\\THz_WTe2_1.db\n",
       " --------------------------------------------------------\n",
       " keith_source_voltage - numeric\n",
       " time - numeric\n",
       " daq_ai0_voltage - numeric\n",
       " keith_sense_current - numeric,\n",
       " results #7@Z:\\google-drive\\WTe2\\THz_WTe2_1\\THz_WTe2_1.db\n",
       " --------------------------------------------------------\n",
       " keith_source_voltage - numeric\n",
       " time - numeric\n",
       " daq_ai0_voltage - numeric\n",
       " keith_sense_current - numeric,\n",
       " results #8@Z:\\google-drive\\WTe2\\THz_WTe2_1\\THz_WTe2_1.db\n",
       " --------------------------------------------------------\n",
       " daq_ao0_voltage - numeric\n",
       " time - numeric\n",
       " daq_ai0_voltage - numeric\n",
       " keith_sense_current - numeric,\n",
       " results #9@Z:\\google-drive\\WTe2\\THz_WTe2_1\\THz_WTe2_1.db\n",
       " --------------------------------------------------------\n",
       " daq_ao0_voltage - numeric\n",
       " time - numeric\n",
       " daq_ai0_voltage - numeric\n",
       " keith_sense_current - numeric,\n",
       " results #10@Z:\\google-drive\\WTe2\\THz_WTe2_1\\THz_WTe2_1.db\n",
       " ---------------------------------------------------------\n",
       " daq_ao0_voltage - numeric\n",
       " time - numeric\n",
       " daq_ai0_voltage - numeric\n",
       " keith_sense_current - numeric\n",
       " ls_ChanA_temperature - numeric,\n",
       " results #11@Z:\\google-drive\\WTe2\\THz_WTe2_1\\THz_WTe2_1.db\n",
       " ---------------------------------------------------------\n",
       " daq_ao0_voltage - numeric\n",
       " time - numeric\n",
       " daq_ai0_voltage - numeric,\n",
       " results #12@Z:\\google-drive\\WTe2\\THz_WTe2_1\\THz_WTe2_1.db\n",
       " ---------------------------------------------------------\n",
       " daq_ao0_voltage - numeric\n",
       " time - numeric\n",
       " daq_ai0_voltage - numeric,\n",
       " results #13@Z:\\google-drive\\WTe2\\THz_WTe2_1\\THz_WTe2_1.db\n",
       " ---------------------------------------------------------\n",
       " daq_ao0_voltage - numeric\n",
       " time - numeric\n",
       " daq_ai0_voltage - numeric,\n",
       " results #14@Z:\\google-drive\\WTe2\\THz_WTe2_1\\THz_WTe2_1.db\n",
       " ---------------------------------------------------------\n",
       " daq_ao0_voltage - numeric\n",
       " time - numeric\n",
       " daq_ai0_voltage - numeric,\n",
       " results #15@Z:\\google-drive\\WTe2\\THz_WTe2_1\\THz_WTe2_1.db\n",
       " ---------------------------------------------------------\n",
       " daq_ao0_voltage - numeric\n",
       " time - numeric\n",
       " daq_ai0_voltage - numeric,\n",
       " results #16@Z:\\google-drive\\WTe2\\THz_WTe2_1\\THz_WTe2_1.db\n",
       " ---------------------------------------------------------\n",
       " daq_ao0_voltage - numeric\n",
       " time - numeric\n",
       " daq_ai0_voltage - numeric,\n",
       " results #17@Z:\\google-drive\\WTe2\\THz_WTe2_1\\THz_WTe2_1.db\n",
       " ---------------------------------------------------------\n",
       " daq_ao0_voltage - numeric\n",
       " time - numeric\n",
       " daq_ai0_voltage - numeric,\n",
       " results #18@Z:\\google-drive\\WTe2\\THz_WTe2_1\\THz_WTe2_1.db\n",
       " ---------------------------------------------------------\n",
       " daq_ao0_voltage - numeric\n",
       " time - numeric\n",
       " daq_ai0_voltage - numeric,\n",
       " results #19@Z:\\google-drive\\WTe2\\THz_WTe2_1\\THz_WTe2_1.db\n",
       " ---------------------------------------------------------\n",
       " daq_ao0_voltage - numeric\n",
       " time - numeric\n",
       " daq_ai0_voltage - numeric,\n",
       " results #20@Z:\\google-drive\\WTe2\\THz_WTe2_1\\THz_WTe2_1.db\n",
       " ---------------------------------------------------------\n",
       " daq_ao0_voltage - numeric\n",
       " time - numeric\n",
       " daq_ai0_voltage - numeric,\n",
       " results #21@Z:\\google-drive\\WTe2\\THz_WTe2_1\\THz_WTe2_1.db\n",
       " ---------------------------------------------------------\n",
       " daq_ao0_voltage - numeric\n",
       " time - numeric\n",
       " daq_ai0_voltage - numeric,\n",
       " results #22@Z:\\google-drive\\WTe2\\THz_WTe2_1\\THz_WTe2_1.db\n",
       " ---------------------------------------------------------\n",
       " keith_source_voltage - numeric\n",
       " time - numeric\n",
       " daq_ai0_voltage - numeric\n",
       " keith_sense_current - numeric,\n",
       " results #23@Z:\\google-drive\\WTe2\\THz_WTe2_1\\THz_WTe2_1.db\n",
       " ---------------------------------------------------------\n",
       " keith_source_voltage - numeric\n",
       " time - numeric\n",
       " daq_ai0_voltage - numeric\n",
       " keith_sense_current - numeric,\n",
       " results #24@Z:\\google-drive\\WTe2\\THz_WTe2_1\\THz_WTe2_1.db\n",
       " ---------------------------------------------------------\n",
       " keith_source_voltage - numeric\n",
       " time - numeric\n",
       " daq_ai0_voltage - numeric\n",
       " keith_sense_current - numeric,\n",
       " results #25@Z:\\google-drive\\WTe2\\THz_WTe2_1\\THz_WTe2_1.db\n",
       " ---------------------------------------------------------\n",
       " keith_source_voltage - numeric\n",
       " time - numeric\n",
       " sr860_X - numeric\n",
       " sr860_P - numeric\n",
       " keith_sense_current - numeric,\n",
       " results #26@Z:\\google-drive\\WTe2\\THz_WTe2_1\\THz_WTe2_1.db\n",
       " ---------------------------------------------------------\n",
       " keith_source_voltage - numeric\n",
       " time - numeric\n",
       " sr860_X - numeric\n",
       " sr860_P - numeric\n",
       " keith_sense_current - numeric,\n",
       " results #27@Z:\\google-drive\\WTe2\\THz_WTe2_1\\THz_WTe2_1.db\n",
       " ---------------------------------------------------------\n",
       " keith_source_voltage - numeric\n",
       " time - numeric\n",
       " sr860_X - numeric\n",
       " sr860_P - numeric\n",
       " keith_sense_current - numeric,\n",
       " results #28@Z:\\google-drive\\WTe2\\THz_WTe2_1\\THz_WTe2_1.db\n",
       " ---------------------------------------------------------\n",
       " keith_source_voltage - numeric\n",
       " time - numeric\n",
       " sr860_X - numeric\n",
       " sr860_P - numeric\n",
       " keith_sense_current - numeric,\n",
       " results #29@Z:\\google-drive\\WTe2\\THz_WTe2_1\\THz_WTe2_1.db\n",
       " ---------------------------------------------------------\n",
       " keith_source_voltage - numeric\n",
       " time - numeric\n",
       " sr860_X - numeric\n",
       " sr860_P - numeric\n",
       " keith_sense_current - numeric,\n",
       " results #30@Z:\\google-drive\\WTe2\\THz_WTe2_1\\THz_WTe2_1.db\n",
       " ---------------------------------------------------------\n",
       " keith_source_voltage - numeric\n",
       " time - numeric\n",
       " sr860_X - numeric\n",
       " sr860_P - numeric\n",
       " keith_sense_current - numeric,\n",
       " results #31@Z:\\google-drive\\WTe2\\THz_WTe2_1\\THz_WTe2_1.db\n",
       " ---------------------------------------------------------\n",
       " keith_source_voltage - numeric\n",
       " time - numeric\n",
       " sr860_X - numeric\n",
       " sr860_P - numeric\n",
       " keith_sense_current - numeric,\n",
       " results #32@Z:\\google-drive\\WTe2\\THz_WTe2_1\\THz_WTe2_1.db\n",
       " ---------------------------------------------------------\n",
       " keith_source_voltage - numeric\n",
       " time - numeric\n",
       " sr860_X - numeric\n",
       " sr860_P - numeric\n",
       " keith_sense_current - numeric,\n",
       " results #33@Z:\\google-drive\\WTe2\\THz_WTe2_1\\THz_WTe2_1.db\n",
       " ---------------------------------------------------------\n",
       " keith_source_voltage - numeric\n",
       " time - numeric\n",
       " sr860_X - numeric\n",
       " sr860_P - numeric\n",
       " keith_sense_current - numeric,\n",
       " results #34@Z:\\google-drive\\WTe2\\THz_WTe2_1\\THz_WTe2_1.db\n",
       " ---------------------------------------------------------\n",
       " keith_source_voltage - numeric\n",
       " time - numeric\n",
       " sr860_X - numeric\n",
       " sr860_P - numeric\n",
       " keith_sense_current - numeric,\n",
       " results #35@Z:\\google-drive\\WTe2\\THz_WTe2_1\\THz_WTe2_1.db\n",
       " ---------------------------------------------------------\n",
       " keith_source_voltage - numeric\n",
       " time - numeric\n",
       " sr860_X - numeric\n",
       " sr860_P - numeric\n",
       " keith_sense_current - numeric,\n",
       " results #36@Z:\\google-drive\\WTe2\\THz_WTe2_1\\THz_WTe2_1.db\n",
       " ---------------------------------------------------------\n",
       " keith_source_voltage - numeric\n",
       " time - numeric\n",
       " sr860_X - numeric\n",
       " sr860_P - numeric\n",
       " keith_sense_current - numeric,\n",
       " results #37@Z:\\google-drive\\WTe2\\THz_WTe2_1\\THz_WTe2_1.db\n",
       " ---------------------------------------------------------\n",
       " keith_source_voltage - numeric\n",
       " time - numeric\n",
       " sr860_X - numeric\n",
       " sr860_P - numeric\n",
       " keith_sense_current - numeric,\n",
       " results #38@Z:\\google-drive\\WTe2\\THz_WTe2_1\\THz_WTe2_1.db\n",
       " ---------------------------------------------------------\n",
       " keith_source_voltage - numeric\n",
       " time - numeric\n",
       " sr860_X - numeric\n",
       " sr860_P - numeric\n",
       " keith_sense_current - numeric,\n",
       " results #39@Z:\\google-drive\\WTe2\\THz_WTe2_1\\THz_WTe2_1.db\n",
       " ---------------------------------------------------------\n",
       " keith_source_voltage - numeric\n",
       " time - numeric\n",
       " sr860_X - numeric\n",
       " sr860_P - numeric\n",
       " keith_sense_current - numeric]"
      ]
     },
     "execution_count": 10,
     "metadata": {},
     "output_type": "execute_result"
    }
   ],
   "source": [
    "d_sets"
   ]
  },
  {
   "cell_type": "code",
   "execution_count": 44,
   "metadata": {},
   "outputs": [],
   "source": [
    "ds = d_sets[29]"
   ]
  },
  {
   "cell_type": "code",
   "execution_count": 13,
   "metadata": {},
   "outputs": [
    {
     "data": {
      "text/plain": [
       "dict_items([('keith_source_voltage', ParamSpec('keith_source_voltage', 'numeric', 'V_bg', 'V', inferred_from=[], depends_on=[])), ('time', ParamSpec('time', 'numeric', 'time', 's', inferred_from=[], depends_on=['keith_source_voltage'])), ('sr860_X', ParamSpec('sr860_X', 'numeric', 'I_sd', 'V', inferred_from=[], depends_on=['keith_source_voltage'])), ('sr860_P', ParamSpec('sr860_P', 'numeric', 'P_I_sd', 'deg', inferred_from=[], depends_on=['keith_source_voltage'])), ('keith_sense_current', ParamSpec('keith_sense_current', 'numeric', 'I_leak', 'A', inferred_from=[], depends_on=['keith_source_voltage']))])"
      ]
     },
     "execution_count": 13,
     "metadata": {},
     "output_type": "execute_result"
    }
   ],
   "source": [
    "d_sets[28].paramspecs.items()"
   ]
  },
  {
   "cell_type": "code",
   "execution_count": 48,
   "metadata": {},
   "outputs": [
    {
     "name": "stdout",
     "output_type": "stream",
     "text": [
      "keith_sense_current I_leak (A)\n",
      "V_bg (V) keith_source_voltage\n",
      "sr860_P P_I_sd (deg)\n",
      "V_bg (V) keith_source_voltage\n",
      "sr860_X I_sd (V)\n",
      "V_bg (V) keith_source_voltage\n",
      "time time (s)\n",
      "V_bg (V) keith_source_voltage\n"
     ]
    }
   ],
   "source": [
    "df = ds.get_data_as_pandas_dataframe()\n",
    "export_ds = pd.DataFrame()\n",
    "for key, value in df.items():\n",
    "        export_key = find_param_label(ds, key)\n",
    "        print(key, export_key)\n",
    "        #print(value)\n",
    "        #print(type(value))\n",
    "        x_name = find_param_label(ds, value.index.name)\n",
    "        print(x_name, value.index.name)\n",
    "        value.index.name = x_name\n",
    "        export_ds[[export_key]] = value[[key]]"
   ]
  },
  {
   "cell_type": "code",
   "execution_count": 14,
   "metadata": {},
   "outputs": [],
   "source": [
    "def find_param_label(ds, name):\n",
    "    use_name = name\n",
    "    unit = None\n",
    "    for p_name, ps in ds.paramspecs.items():\n",
    "        if name == p_name:\n",
    "            unit = ps.unit\n",
    "            if ps.label is not None:\n",
    "                use_name = ps.label\n",
    "\n",
    "    if unit is not None:\n",
    "        use_name = f'{use_name} ({unit})'\n",
    "    return use_name"
   ]
  },
  {
   "cell_type": "code",
   "execution_count": 16,
   "metadata": {},
   "outputs": [],
   "source": [
    "import pandas as pd"
   ]
  },
  {
   "cell_type": "code",
   "execution_count": 46,
   "metadata": {},
   "outputs": [
    {
     "data": {
      "text/html": [
       "<div>\n",
       "<style scoped>\n",
       "    .dataframe tbody tr th:only-of-type {\n",
       "        vertical-align: middle;\n",
       "    }\n",
       "\n",
       "    .dataframe tbody tr th {\n",
       "        vertical-align: top;\n",
       "    }\n",
       "\n",
       "    .dataframe thead th {\n",
       "        text-align: right;\n",
       "    }\n",
       "</style>\n",
       "<table border=\"1\" class=\"dataframe\">\n",
       "  <thead>\n",
       "    <tr style=\"text-align: right;\">\n",
       "      <th></th>\n",
       "      <th>I_leak (A)</th>\n",
       "      <th>P_I_sd (deg)</th>\n",
       "      <th>I_sd (V)</th>\n",
       "      <th>time (s)</th>\n",
       "    </tr>\n",
       "    <tr>\n",
       "      <th>V_bg (V)</th>\n",
       "      <th></th>\n",
       "      <th></th>\n",
       "      <th></th>\n",
       "      <th></th>\n",
       "    </tr>\n",
       "  </thead>\n",
       "  <tbody>\n",
       "    <tr>\n",
       "      <th>-60.0</th>\n",
       "      <td>-4.395506e-09</td>\n",
       "      <td>1.117545</td>\n",
       "      <td>0.006723</td>\n",
       "      <td>0.360</td>\n",
       "    </tr>\n",
       "    <tr>\n",
       "      <th>-59.9</th>\n",
       "      <td>-3.839158e-09</td>\n",
       "      <td>1.103784</td>\n",
       "      <td>0.006724</td>\n",
       "      <td>0.563</td>\n",
       "    </tr>\n",
       "    <tr>\n",
       "      <th>-59.8</th>\n",
       "      <td>-3.700052e-09</td>\n",
       "      <td>1.094301</td>\n",
       "      <td>0.006724</td>\n",
       "      <td>0.766</td>\n",
       "    </tr>\n",
       "    <tr>\n",
       "      <th>-59.7</th>\n",
       "      <td>-3.839165e-09</td>\n",
       "      <td>1.098680</td>\n",
       "      <td>0.006722</td>\n",
       "      <td>0.969</td>\n",
       "    </tr>\n",
       "    <tr>\n",
       "      <th>-59.6</th>\n",
       "      <td>-4.186887e-09</td>\n",
       "      <td>1.099018</td>\n",
       "      <td>0.006719</td>\n",
       "      <td>1.172</td>\n",
       "    </tr>\n",
       "    <tr>\n",
       "      <th>...</th>\n",
       "      <td>...</td>\n",
       "      <td>...</td>\n",
       "      <td>...</td>\n",
       "      <td>...</td>\n",
       "    </tr>\n",
       "    <tr>\n",
       "      <th>-59.6</th>\n",
       "      <td>-5.369163e-09</td>\n",
       "      <td>1.044467</td>\n",
       "      <td>0.007110</td>\n",
       "      <td>483.563</td>\n",
       "    </tr>\n",
       "    <tr>\n",
       "      <th>-59.7</th>\n",
       "      <td>-5.369198e-09</td>\n",
       "      <td>1.031912</td>\n",
       "      <td>0.007090</td>\n",
       "      <td>483.766</td>\n",
       "    </tr>\n",
       "    <tr>\n",
       "      <th>-59.8</th>\n",
       "      <td>-5.577824e-09</td>\n",
       "      <td>1.031948</td>\n",
       "      <td>0.007059</td>\n",
       "      <td>483.969</td>\n",
       "    </tr>\n",
       "    <tr>\n",
       "      <th>-59.9</th>\n",
       "      <td>-5.369174e-09</td>\n",
       "      <td>1.033080</td>\n",
       "      <td>0.007022</td>\n",
       "      <td>484.172</td>\n",
       "    </tr>\n",
       "    <tr>\n",
       "      <th>-60.0</th>\n",
       "      <td>-5.299647e-09</td>\n",
       "      <td>1.039452</td>\n",
       "      <td>0.006978</td>\n",
       "      <td>484.375</td>\n",
       "    </tr>\n",
       "  </tbody>\n",
       "</table>\n",
       "<p>2402 rows × 4 columns</p>\n",
       "</div>"
      ],
      "text/plain": [
       "            I_leak (A)  P_I_sd (deg)  I_sd (V)  time (s)\n",
       "V_bg (V)                                                \n",
       "-60.0    -4.395506e-09      1.117545  0.006723     0.360\n",
       "-59.9    -3.839158e-09      1.103784  0.006724     0.563\n",
       "-59.8    -3.700052e-09      1.094301  0.006724     0.766\n",
       "-59.7    -3.839165e-09      1.098680  0.006722     0.969\n",
       "-59.6    -4.186887e-09      1.099018  0.006719     1.172\n",
       "...                ...           ...       ...       ...\n",
       "-59.6    -5.369163e-09      1.044467  0.007110   483.563\n",
       "-59.7    -5.369198e-09      1.031912  0.007090   483.766\n",
       "-59.8    -5.577824e-09      1.031948  0.007059   483.969\n",
       "-59.9    -5.369174e-09      1.033080  0.007022   484.172\n",
       "-60.0    -5.299647e-09      1.039452  0.006978   484.375\n",
       "\n",
       "[2402 rows x 4 columns]"
      ]
     },
     "execution_count": 46,
     "metadata": {},
     "output_type": "execute_result"
    }
   ],
   "source": [
    "export_ds"
   ]
  },
  {
   "cell_type": "code",
   "execution_count": 30,
   "metadata": {},
   "outputs": [
    {
     "data": {
      "text/plain": [
       "Index(['I_leak (A)', 'P_I_sd (deg)', 'I_sd (V)', 'time (s)'], dtype='object')"
      ]
     },
     "execution_count": 30,
     "metadata": {},
     "output_type": "execute_result"
    }
   ],
   "source": [
    "export_ds.columns"
   ]
  },
  {
   "cell_type": "code",
   "execution_count": 33,
   "metadata": {},
   "outputs": [
    {
     "data": {
      "text/plain": [
       "[Float64Index([           -60.0,            -59.9,            -59.8,\n",
       "                          -59.7,            -59.6,            -59.5,\n",
       "                          -59.4,            -59.3,            -59.2,\n",
       "                          -59.1,\n",
       "               ...\n",
       "               58.5000000000011, 58.6000000000012, 58.7000000000012,\n",
       "               58.8000000000011, 58.9000000000012, 59.0000000000012,\n",
       "               59.1000000000012, 59.2000000000012, 59.3000000000012,\n",
       "               59.4000000000012],\n",
       "              dtype='float64', name='keith_source_voltage', length=1195),\n",
       " Index(['I_leak (A)', 'P_I_sd (deg)', 'I_sd (V)', 'time (s)'], dtype='object')]"
      ]
     },
     "execution_count": 33,
     "metadata": {},
     "output_type": "execute_result"
    }
   ],
   "source": [
    "export_ds.axes"
   ]
  },
  {
   "cell_type": "code",
   "execution_count": 38,
   "metadata": {},
   "outputs": [],
   "source": [
    "df['sr860_X'].index.name='V_bg'"
   ]
  },
  {
   "cell_type": "code",
   "execution_count": 39,
   "metadata": {},
   "outputs": [
    {
     "data": {
      "text/html": [
       "<div>\n",
       "<style scoped>\n",
       "    .dataframe tbody tr th:only-of-type {\n",
       "        vertical-align: middle;\n",
       "    }\n",
       "\n",
       "    .dataframe tbody tr th {\n",
       "        vertical-align: top;\n",
       "    }\n",
       "\n",
       "    .dataframe thead th {\n",
       "        text-align: right;\n",
       "    }\n",
       "</style>\n",
       "<table border=\"1\" class=\"dataframe\">\n",
       "  <thead>\n",
       "    <tr style=\"text-align: right;\">\n",
       "      <th></th>\n",
       "      <th>sr860_X</th>\n",
       "    </tr>\n",
       "    <tr>\n",
       "      <th>V_bg</th>\n",
       "      <th></th>\n",
       "    </tr>\n",
       "  </thead>\n",
       "  <tbody>\n",
       "    <tr>\n",
       "      <th>-60.0</th>\n",
       "      <td>0.041376</td>\n",
       "    </tr>\n",
       "    <tr>\n",
       "      <th>-59.9</th>\n",
       "      <td>0.041372</td>\n",
       "    </tr>\n",
       "    <tr>\n",
       "      <th>-59.8</th>\n",
       "      <td>0.041367</td>\n",
       "    </tr>\n",
       "    <tr>\n",
       "      <th>-59.7</th>\n",
       "      <td>0.041362</td>\n",
       "    </tr>\n",
       "    <tr>\n",
       "      <th>-59.6</th>\n",
       "      <td>0.041359</td>\n",
       "    </tr>\n",
       "    <tr>\n",
       "      <th>...</th>\n",
       "      <td>...</td>\n",
       "    </tr>\n",
       "    <tr>\n",
       "      <th>59.0</th>\n",
       "      <td>0.101080</td>\n",
       "    </tr>\n",
       "    <tr>\n",
       "      <th>59.1</th>\n",
       "      <td>0.101290</td>\n",
       "    </tr>\n",
       "    <tr>\n",
       "      <th>59.2</th>\n",
       "      <td>0.101499</td>\n",
       "    </tr>\n",
       "    <tr>\n",
       "      <th>59.3</th>\n",
       "      <td>0.101710</td>\n",
       "    </tr>\n",
       "    <tr>\n",
       "      <th>59.4</th>\n",
       "      <td>0.101909</td>\n",
       "    </tr>\n",
       "  </tbody>\n",
       "</table>\n",
       "<p>1195 rows × 1 columns</p>\n",
       "</div>"
      ],
      "text/plain": [
       "        sr860_X\n",
       "V_bg           \n",
       "-60.0  0.041376\n",
       "-59.9  0.041372\n",
       "-59.8  0.041367\n",
       "-59.7  0.041362\n",
       "-59.6  0.041359\n",
       "...         ...\n",
       " 59.0  0.101080\n",
       " 59.1  0.101290\n",
       " 59.2  0.101499\n",
       " 59.3  0.101710\n",
       " 59.4  0.101909\n",
       "\n",
       "[1195 rows x 1 columns]"
      ]
     },
     "execution_count": 39,
     "metadata": {},
     "output_type": "execute_result"
    }
   ],
   "source": [
    "df['sr860_X']"
   ]
  },
  {
   "cell_type": "code",
   "execution_count": null,
   "metadata": {},
   "outputs": [],
   "source": []
  }
 ],
 "metadata": {
  "kernelspec": {
   "display_name": "Python 3",
   "language": "python",
   "name": "python3"
  },
  "language_info": {
   "codemirror_mode": {
    "name": "ipython",
    "version": 3
   },
   "file_extension": ".py",
   "mimetype": "text/x-python",
   "name": "python",
   "nbconvert_exporter": "python",
   "pygments_lexer": "ipython3",
   "version": "3.7.9"
  }
 },
 "nbformat": 4,
 "nbformat_minor": 4
}
