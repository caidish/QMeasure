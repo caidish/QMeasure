{
 "cells": [
  {
   "cell_type": "code",
   "execution_count": 1,
   "metadata": {},
   "outputs": [
    {
     "name": "stdout",
     "output_type": "stream",
     "text": [
      "Logging hadn't been started.\n",
      "Activating auto-logging. Current session state plus future input saved.\n",
      "Filename       : C:\\Users\\Elliott Runburg\\.qcodes\\logs\\command_history.log append\n",
      "Mode           : backup\n",
      "Output logging : True\n",
      "Raw input log  : False\n",
      "Timestamping   : True\n",
      "State          : active\n",
      "Qcodes Logfile : C:\\Users\\Elliott Runburg\\.qcodes\\logs\\210524-7004-qcodes.log\n"
     ]
    }
   ],
   "source": [
    "%gui qt5\n",
    "from src.sweep1d import Sweep1D\n",
    "from src.plotter_thread import pyqtgraphPlotter\n",
    "from qcodes.tests.instrument_mocks import DummyInstrument"
   ]
  },
  {
   "cell_type": "code",
   "execution_count": 2,
   "metadata": {},
   "outputs": [],
   "source": [
    "d1 = DummyInstrument('dummy1')\n",
    "d2 = DummyInstrument('dummy2')"
   ]
  },
  {
   "cell_type": "code",
   "execution_count": 3,
   "metadata": {},
   "outputs": [],
   "source": [
    "sweep = Sweep1D(d1.dac1, 0, 10, 0.1)\n",
    "sweep.follow_param(d1.dac2, d1.dac3, d2.dac1, d2.dac2)"
   ]
  },
  {
   "cell_type": "code",
   "execution_count": 4,
   "metadata": {},
   "outputs": [],
   "source": [
    "plotter = pyqtgraphPlotter(sweep)"
   ]
  },
  {
   "cell_type": "code",
   "execution_count": 5,
   "metadata": {},
   "outputs": [],
   "source": [
    "plotter.create_figs()"
   ]
  },
  {
   "cell_type": "code",
   "execution_count": 6,
   "metadata": {},
   "outputs": [],
   "source": [
    "plotter.win.show()"
   ]
  },
  {
   "cell_type": "code",
   "execution_count": 7,
   "metadata": {},
   "outputs": [
    {
     "data": {
      "text/plain": [
       "<pyqtgraph.widgets.GraphicsLayoutWidget.GraphicsLayoutWidget at 0x19a381a35e8>"
      ]
     },
     "execution_count": 7,
     "metadata": {},
     "output_type": "execute_result"
    },
    {
     "name": "stderr",
     "output_type": "stream",
     "text": [
      "2021-05-24 02:26:32,224 ¦ py.warnings ¦ WARNING ¦ warnings ¦ _showwarnmsg ¦ 110 ¦ C:\\Users\\Elliott Runburg\\Anaconda3\\envs\\qcodes\\lib\\site-packages\\pyqtgraph\\graphicsItems\\AxisItem.py:937: RuntimeWarning: overflow encountered in double_scalars\n",
      "  xScale = -bounds.height() / dif\n",
      "\n",
      "2021-05-24 02:26:32,234 ¦ py.warnings ¦ WARNING ¦ warnings ¦ _showwarnmsg ¦ 110 ¦ C:\\Users\\Elliott Runburg\\Anaconda3\\envs\\qcodes\\lib\\site-packages\\pyqtgraph\\graphicsItems\\AxisItem.py:943: RuntimeWarning: invalid value encountered in double_scalars\n",
      "  xRange = [x * xScale - offset for x in self.range]\n",
      "\n",
      "2021-05-24 02:26:32,234 ¦ py.warnings ¦ WARNING ¦ warnings ¦ _showwarnmsg ¦ 110 ¦ C:\\Users\\Elliott Runburg\\Anaconda3\\envs\\qcodes\\lib\\site-packages\\pyqtgraph\\graphicsItems\\AxisItem.py:978: RuntimeWarning: invalid value encountered in double_scalars\n",
      "  x = (v * xScale) - offset\n",
      "\n",
      "2021-05-24 02:26:33,341 ¦ py.warnings ¦ WARNING ¦ warnings ¦ _showwarnmsg ¦ 110 ¦ C:\\Users\\Elliott Runburg\\Anaconda3\\envs\\qcodes\\lib\\site-packages\\pyqtgraph\\graphicsItems\\AxisItem.py:940: RuntimeWarning: overflow encountered in double_scalars\n",
      "  xScale = bounds.width() / dif\n",
      "\n"
     ]
    }
   ],
   "source": [
    "plotter.win"
   ]
  },
  {
   "cell_type": "code",
   "execution_count": null,
   "metadata": {},
   "outputs": [],
   "source": []
  }
 ],
 "metadata": {
  "kernelspec": {
   "display_name": "Python 3",
   "language": "python",
   "name": "python3"
  },
  "language_info": {
   "codemirror_mode": {
    "name": "ipython",
    "version": 3
   },
   "file_extension": ".py",
   "mimetype": "text/x-python",
   "name": "python",
   "nbconvert_exporter": "python",
   "pygments_lexer": "ipython3",
   "version": "3.7.9"
  }
 },
 "nbformat": 4,
 "nbformat_minor": 4
}
